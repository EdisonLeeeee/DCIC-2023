{
 "cells": [
  {
   "cell_type": "markdown",
   "id": "ff8eb9e3-99b1-4e23-ae91-3520cb6e0d34",
   "metadata": {},
   "source": [
    "# 包导入及基本配置"
   ]
  },
  {
   "cell_type": "code",
   "execution_count": 1,
   "id": "d8d90cbf-6736-454c-8dea-679bdacefee4",
   "metadata": {},
   "outputs": [],
   "source": [
    "import torch\n",
    "import numpy as np\n",
    "import pandas as pd\n",
    "\n",
    "import gc\n",
    "import time\n",
    "from collections import Counter\n",
    "\n",
    "import matplotlib.pyplot as plt\n",
    "import lightgbm as lgb\n",
    "import numpy as np\n",
    "import pandas as pd\n",
    "import torch\n",
    "from sklearn.metrics import roc_auc_score, f1_score\n",
    "from sklearn.model_selection import StratifiedKFold, KFold\n",
    "from sklearn.preprocessing import LabelEncoder\n",
    "from tqdm import tqdm\n",
    "\n",
    "tqdm.pandas()\n",
    "\n",
    "pd.options.display.max_columns = 200\n",
    "pd.options.display.max_rows = 200\n",
    "\n",
    "seed = 2023\n",
    "num_boost_round = 5000\n",
    "verbose_eval = 200\n",
    "early_stopping_rounds = 100\n",
    "learning_rate = 0.05\n",
    "max_depth = -1\n",
    "num_leaves = 128\n",
    "subsample_freq = 1\n",
    "subsample = 0.85\n",
    "colsample_bytree = 0.5\n",
    "n_splits = 10\n",
    "reg_alpha = 0\n",
    "reg_lambda = 10\n",
    "n_jobs = 64"
   ]
  },
  {
   "cell_type": "markdown",
   "id": "70e624ff-c794-486b-b5c4-13cd5eb358a1",
   "metadata": {},
   "source": [
    "# 读取数据并重命名列名"
   ]
  },
  {
   "cell_type": "code",
   "execution_count": 2,
   "id": "515aa6ca-8983-4426-98da-648451ab62ca",
   "metadata": {},
   "outputs": [],
   "source": [
    "data = pd.read_csv('账户交易信息.csv')\n",
    "data_static = pd.read_csv('账户静态信息.csv')\n",
    "data_label = pd.read_csv('训练集标签.csv')\n",
    "data = data.rename({'jylsxh': '交易流水序号',\n",
    "                    'zhdh': '账户代号',\n",
    "                    'dfzh': '对方账号',\n",
    "                    'jdbz': '借贷标志',\n",
    "                    'jyje': '交易金额',\n",
    "                    'jyye': '交易余额',\n",
    "                    'dfhh': '对方行号',\n",
    "                    'jyrq': '交易日期',\n",
    "                    'jysj': '交易时间',\n",
    "                    'jyqd': '交易渠道',\n",
    "                    'zydh': '摘要代号',\n",
    "                    'jdbj': '借贷标记',\n",
    "                    'zhye': '账户余额',\n",
    "                    'dfmccd': '对方名称长度'}, axis=1)\n",
    "data_static =  data_static.rename({'khrq':'开户日期', \n",
    "                                   'xb': '性别', \n",
    "                                   'khjgdh':'开户机构代号', \n",
    "                                   'zhdh': '账户代号'}, axis=1)\n",
    "data_label = data_label.rename({'zhdh': '账户代号', \n",
    "                                'black_flag': '标签'}, axis=1)"
   ]
  },
  {
   "cell_type": "code",
   "execution_count": 3,
   "id": "2a5f303e-78fa-4b9b-91f9-63eb06899efa",
   "metadata": {},
   "outputs": [
    {
     "data": {
      "text/html": [
       "<div>\n",
       "<style scoped>\n",
       "    .dataframe tbody tr th:only-of-type {\n",
       "        vertical-align: middle;\n",
       "    }\n",
       "\n",
       "    .dataframe tbody tr th {\n",
       "        vertical-align: top;\n",
       "    }\n",
       "\n",
       "    .dataframe thead th {\n",
       "        text-align: right;\n",
       "    }\n",
       "</style>\n",
       "<table border=\"1\" class=\"dataframe\">\n",
       "  <thead>\n",
       "    <tr style=\"text-align: right;\">\n",
       "      <th></th>\n",
       "      <th>交易流水序号</th>\n",
       "      <th>账户代号</th>\n",
       "      <th>对方账号</th>\n",
       "      <th>借贷标记</th>\n",
       "      <th>交易金额</th>\n",
       "      <th>账户余额</th>\n",
       "      <th>对方行号</th>\n",
       "      <th>交易日期</th>\n",
       "      <th>交易时间</th>\n",
       "      <th>交易渠道</th>\n",
       "      <th>摘要代号</th>\n",
       "      <th>对方名称长度</th>\n",
       "    </tr>\n",
       "  </thead>\n",
       "  <tbody>\n",
       "    <tr>\n",
       "      <th>0</th>\n",
       "      <td>5D252156AE9F6B6595A1C56F56D4F91C</td>\n",
       "      <td>86C379D938234BAA</td>\n",
       "      <td>14BEFED1370B730A</td>\n",
       "      <td>0</td>\n",
       "      <td>310.00</td>\n",
       "      <td>57806.83</td>\n",
       "      <td>834E1F06</td>\n",
       "      <td>2020-03-01</td>\n",
       "      <td>00:18:06</td>\n",
       "      <td>E96ED478</td>\n",
       "      <td>4E0CB6FB</td>\n",
       "      <td>45</td>\n",
       "    </tr>\n",
       "    <tr>\n",
       "      <th>1</th>\n",
       "      <td>8BB3D82CA8E5F95577CA3E2DF432DF64</td>\n",
       "      <td>8EB373F073727157</td>\n",
       "      <td>FD7F11B33576339B</td>\n",
       "      <td>1</td>\n",
       "      <td>599.99</td>\n",
       "      <td>7099.73</td>\n",
       "      <td>B3D461D4</td>\n",
       "      <td>2020-03-01</td>\n",
       "      <td>00:18:17</td>\n",
       "      <td>621461AF</td>\n",
       "      <td>A3C65C29</td>\n",
       "      <td>6</td>\n",
       "    </tr>\n",
       "    <tr>\n",
       "      <th>2</th>\n",
       "      <td>412B7E903BC06882EEB9FB6A484D0773</td>\n",
       "      <td>997DED969A377D40</td>\n",
       "      <td>014F2782648E7FDA</td>\n",
       "      <td>1</td>\n",
       "      <td>4000.00</td>\n",
       "      <td>34448.04</td>\n",
       "      <td>A71C76B8</td>\n",
       "      <td>2020-03-01</td>\n",
       "      <td>00:18:30</td>\n",
       "      <td>621461AF</td>\n",
       "      <td>A3C65C29</td>\n",
       "      <td>6</td>\n",
       "    </tr>\n",
       "    <tr>\n",
       "      <th>3</th>\n",
       "      <td>F1122F893AC75DC8751190C67E1C3DB6</td>\n",
       "      <td>8EB373F073727157</td>\n",
       "      <td>129FAF9FD9D03346</td>\n",
       "      <td>1</td>\n",
       "      <td>299.98</td>\n",
       "      <td>7399.71</td>\n",
       "      <td>8A1BC467</td>\n",
       "      <td>2020-03-01</td>\n",
       "      <td>00:19:06</td>\n",
       "      <td>621461AF</td>\n",
       "      <td>A3C65C29</td>\n",
       "      <td>6</td>\n",
       "    </tr>\n",
       "    <tr>\n",
       "      <th>4</th>\n",
       "      <td>8BD9575EA55E67D4E99AC43B2A444172</td>\n",
       "      <td>8EB373F073727157</td>\n",
       "      <td>3B9CD92F13274EBA</td>\n",
       "      <td>1</td>\n",
       "      <td>999.96</td>\n",
       "      <td>8399.67</td>\n",
       "      <td>A8DA3378</td>\n",
       "      <td>2020-03-01</td>\n",
       "      <td>00:19:17</td>\n",
       "      <td>091D584F</td>\n",
       "      <td>2618045A</td>\n",
       "      <td>6</td>\n",
       "    </tr>\n",
       "  </tbody>\n",
       "</table>\n",
       "</div>"
      ],
      "text/plain": [
       "                             交易流水序号              账户代号              对方账号  借贷标记  \\\n",
       "0  5D252156AE9F6B6595A1C56F56D4F91C  86C379D938234BAA  14BEFED1370B730A     0   \n",
       "1  8BB3D82CA8E5F95577CA3E2DF432DF64  8EB373F073727157  FD7F11B33576339B     1   \n",
       "2  412B7E903BC06882EEB9FB6A484D0773  997DED969A377D40  014F2782648E7FDA     1   \n",
       "3  F1122F893AC75DC8751190C67E1C3DB6  8EB373F073727157  129FAF9FD9D03346     1   \n",
       "4  8BD9575EA55E67D4E99AC43B2A444172  8EB373F073727157  3B9CD92F13274EBA     1   \n",
       "\n",
       "      交易金额      账户余额      对方行号        交易日期      交易时间      交易渠道      摘要代号  \\\n",
       "0   310.00  57806.83  834E1F06  2020-03-01  00:18:06  E96ED478  4E0CB6FB   \n",
       "1   599.99   7099.73  B3D461D4  2020-03-01  00:18:17  621461AF  A3C65C29   \n",
       "2  4000.00  34448.04  A71C76B8  2020-03-01  00:18:30  621461AF  A3C65C29   \n",
       "3   299.98   7399.71  8A1BC467  2020-03-01  00:19:06  621461AF  A3C65C29   \n",
       "4   999.96   8399.67  A8DA3378  2020-03-01  00:19:17  091D584F  2618045A   \n",
       "\n",
       "   对方名称长度  \n",
       "0      45  \n",
       "1       6  \n",
       "2       6  \n",
       "3       6  \n",
       "4       6  "
      ]
     },
     "execution_count": 3,
     "metadata": {},
     "output_type": "execute_result"
    }
   ],
   "source": [
    "data.head()"
   ]
  },
  {
   "cell_type": "code",
   "execution_count": 4,
   "id": "07d8306c-07c2-4154-8a2a-da5d1d634469",
   "metadata": {},
   "outputs": [
    {
     "data": {
      "text/html": [
       "<div>\n",
       "<style scoped>\n",
       "    .dataframe tbody tr th:only-of-type {\n",
       "        vertical-align: middle;\n",
       "    }\n",
       "\n",
       "    .dataframe tbody tr th {\n",
       "        vertical-align: top;\n",
       "    }\n",
       "\n",
       "    .dataframe thead th {\n",
       "        text-align: right;\n",
       "    }\n",
       "</style>\n",
       "<table border=\"1\" class=\"dataframe\">\n",
       "  <thead>\n",
       "    <tr style=\"text-align: right;\">\n",
       "      <th></th>\n",
       "      <th>账户代号</th>\n",
       "      <th>开户日期</th>\n",
       "      <th>开户机构代号</th>\n",
       "      <th>性别</th>\n",
       "      <th>年龄</th>\n",
       "    </tr>\n",
       "  </thead>\n",
       "  <tbody>\n",
       "    <tr>\n",
       "      <th>0</th>\n",
       "      <td>DDF394282B1E1508</td>\n",
       "      <td>2018-04-13</td>\n",
       "      <td>577BCC91</td>\n",
       "      <td>1</td>\n",
       "      <td>25</td>\n",
       "    </tr>\n",
       "    <tr>\n",
       "      <th>1</th>\n",
       "      <td>CAE68290A37CC77D</td>\n",
       "      <td>2016-04-02</td>\n",
       "      <td>34ED066D</td>\n",
       "      <td>1</td>\n",
       "      <td>27</td>\n",
       "    </tr>\n",
       "    <tr>\n",
       "      <th>2</th>\n",
       "      <td>41E4A8AECE47E5F3</td>\n",
       "      <td>2014-09-28</td>\n",
       "      <td>30BB3825</td>\n",
       "      <td>1</td>\n",
       "      <td>44</td>\n",
       "    </tr>\n",
       "    <tr>\n",
       "      <th>3</th>\n",
       "      <td>163C42F2A3FD518E</td>\n",
       "      <td>2010-06-11</td>\n",
       "      <td>34ED066D</td>\n",
       "      <td>1</td>\n",
       "      <td>55</td>\n",
       "    </tr>\n",
       "    <tr>\n",
       "      <th>4</th>\n",
       "      <td>6FBFEB03252FDB9F</td>\n",
       "      <td>2015-08-20</td>\n",
       "      <td>D64A340B</td>\n",
       "      <td>0</td>\n",
       "      <td>44</td>\n",
       "    </tr>\n",
       "  </tbody>\n",
       "</table>\n",
       "</div>"
      ],
      "text/plain": [
       "               账户代号        开户日期    开户机构代号  性别  年龄\n",
       "0  DDF394282B1E1508  2018-04-13  577BCC91   1  25\n",
       "1  CAE68290A37CC77D  2016-04-02  34ED066D   1  27\n",
       "2  41E4A8AECE47E5F3  2014-09-28  30BB3825   1  44\n",
       "3  163C42F2A3FD518E  2010-06-11  34ED066D   1  55\n",
       "4  6FBFEB03252FDB9F  2015-08-20  D64A340B   0  44"
      ]
     },
     "execution_count": 4,
     "metadata": {},
     "output_type": "execute_result"
    }
   ],
   "source": [
    "data_static.head()"
   ]
  },
  {
   "cell_type": "code",
   "execution_count": 5,
   "id": "3a20f318-3730-4fa6-b226-d0b0d1fc9944",
   "metadata": {},
   "outputs": [],
   "source": [
    "df = pd.merge(data, data_static, on='账户代号', how='left')\n",
    "df = pd.merge(df, data_label, on='账户代号', how='left')"
   ]
  },
  {
   "cell_type": "code",
   "execution_count": 6,
   "id": "20731c96-70ac-4733-a38f-ab2fc747d6db",
   "metadata": {},
   "outputs": [
    {
     "data": {
      "text/html": [
       "<div>\n",
       "<style scoped>\n",
       "    .dataframe tbody tr th:only-of-type {\n",
       "        vertical-align: middle;\n",
       "    }\n",
       "\n",
       "    .dataframe tbody tr th {\n",
       "        vertical-align: top;\n",
       "    }\n",
       "\n",
       "    .dataframe thead th {\n",
       "        text-align: right;\n",
       "    }\n",
       "</style>\n",
       "<table border=\"1\" class=\"dataframe\">\n",
       "  <thead>\n",
       "    <tr style=\"text-align: right;\">\n",
       "      <th></th>\n",
       "      <th>交易流水序号</th>\n",
       "      <th>账户代号</th>\n",
       "      <th>对方账号</th>\n",
       "      <th>借贷标记</th>\n",
       "      <th>交易金额</th>\n",
       "      <th>账户余额</th>\n",
       "      <th>对方行号</th>\n",
       "      <th>交易日期</th>\n",
       "      <th>交易时间</th>\n",
       "      <th>交易渠道</th>\n",
       "      <th>摘要代号</th>\n",
       "      <th>对方名称长度</th>\n",
       "      <th>开户日期</th>\n",
       "      <th>开户机构代号</th>\n",
       "      <th>性别</th>\n",
       "      <th>年龄</th>\n",
       "      <th>标签</th>\n",
       "    </tr>\n",
       "  </thead>\n",
       "  <tbody>\n",
       "    <tr>\n",
       "      <th>0</th>\n",
       "      <td>5D252156AE9F6B6595A1C56F56D4F91C</td>\n",
       "      <td>86C379D938234BAA</td>\n",
       "      <td>14BEFED1370B730A</td>\n",
       "      <td>0</td>\n",
       "      <td>310.00</td>\n",
       "      <td>57806.83</td>\n",
       "      <td>834E1F06</td>\n",
       "      <td>2020-03-01</td>\n",
       "      <td>00:18:06</td>\n",
       "      <td>E96ED478</td>\n",
       "      <td>4E0CB6FB</td>\n",
       "      <td>45</td>\n",
       "      <td>2014-02-28</td>\n",
       "      <td>37BC2F75</td>\n",
       "      <td>0</td>\n",
       "      <td>28</td>\n",
       "      <td>NaN</td>\n",
       "    </tr>\n",
       "    <tr>\n",
       "      <th>1</th>\n",
       "      <td>8BB3D82CA8E5F95577CA3E2DF432DF64</td>\n",
       "      <td>8EB373F073727157</td>\n",
       "      <td>FD7F11B33576339B</td>\n",
       "      <td>1</td>\n",
       "      <td>599.99</td>\n",
       "      <td>7099.73</td>\n",
       "      <td>B3D461D4</td>\n",
       "      <td>2020-03-01</td>\n",
       "      <td>00:18:17</td>\n",
       "      <td>621461AF</td>\n",
       "      <td>A3C65C29</td>\n",
       "      <td>6</td>\n",
       "      <td>2013-12-27</td>\n",
       "      <td>C3992E9A</td>\n",
       "      <td>0</td>\n",
       "      <td>31</td>\n",
       "      <td>NaN</td>\n",
       "    </tr>\n",
       "    <tr>\n",
       "      <th>2</th>\n",
       "      <td>412B7E903BC06882EEB9FB6A484D0773</td>\n",
       "      <td>997DED969A377D40</td>\n",
       "      <td>014F2782648E7FDA</td>\n",
       "      <td>1</td>\n",
       "      <td>4000.00</td>\n",
       "      <td>34448.04</td>\n",
       "      <td>A71C76B8</td>\n",
       "      <td>2020-03-01</td>\n",
       "      <td>00:18:30</td>\n",
       "      <td>621461AF</td>\n",
       "      <td>A3C65C29</td>\n",
       "      <td>6</td>\n",
       "      <td>2015-02-14</td>\n",
       "      <td>F3F27A32</td>\n",
       "      <td>0</td>\n",
       "      <td>31</td>\n",
       "      <td>NaN</td>\n",
       "    </tr>\n",
       "    <tr>\n",
       "      <th>3</th>\n",
       "      <td>F1122F893AC75DC8751190C67E1C3DB6</td>\n",
       "      <td>8EB373F073727157</td>\n",
       "      <td>129FAF9FD9D03346</td>\n",
       "      <td>1</td>\n",
       "      <td>299.98</td>\n",
       "      <td>7399.71</td>\n",
       "      <td>8A1BC467</td>\n",
       "      <td>2020-03-01</td>\n",
       "      <td>00:19:06</td>\n",
       "      <td>621461AF</td>\n",
       "      <td>A3C65C29</td>\n",
       "      <td>6</td>\n",
       "      <td>2013-12-27</td>\n",
       "      <td>C3992E9A</td>\n",
       "      <td>0</td>\n",
       "      <td>31</td>\n",
       "      <td>NaN</td>\n",
       "    </tr>\n",
       "    <tr>\n",
       "      <th>4</th>\n",
       "      <td>8BD9575EA55E67D4E99AC43B2A444172</td>\n",
       "      <td>8EB373F073727157</td>\n",
       "      <td>3B9CD92F13274EBA</td>\n",
       "      <td>1</td>\n",
       "      <td>999.96</td>\n",
       "      <td>8399.67</td>\n",
       "      <td>A8DA3378</td>\n",
       "      <td>2020-03-01</td>\n",
       "      <td>00:19:17</td>\n",
       "      <td>091D584F</td>\n",
       "      <td>2618045A</td>\n",
       "      <td>6</td>\n",
       "      <td>2013-12-27</td>\n",
       "      <td>C3992E9A</td>\n",
       "      <td>0</td>\n",
       "      <td>31</td>\n",
       "      <td>NaN</td>\n",
       "    </tr>\n",
       "  </tbody>\n",
       "</table>\n",
       "</div>"
      ],
      "text/plain": [
       "                             交易流水序号              账户代号              对方账号  借贷标记  \\\n",
       "0  5D252156AE9F6B6595A1C56F56D4F91C  86C379D938234BAA  14BEFED1370B730A     0   \n",
       "1  8BB3D82CA8E5F95577CA3E2DF432DF64  8EB373F073727157  FD7F11B33576339B     1   \n",
       "2  412B7E903BC06882EEB9FB6A484D0773  997DED969A377D40  014F2782648E7FDA     1   \n",
       "3  F1122F893AC75DC8751190C67E1C3DB6  8EB373F073727157  129FAF9FD9D03346     1   \n",
       "4  8BD9575EA55E67D4E99AC43B2A444172  8EB373F073727157  3B9CD92F13274EBA     1   \n",
       "\n",
       "      交易金额      账户余额      对方行号        交易日期      交易时间      交易渠道      摘要代号  \\\n",
       "0   310.00  57806.83  834E1F06  2020-03-01  00:18:06  E96ED478  4E0CB6FB   \n",
       "1   599.99   7099.73  B3D461D4  2020-03-01  00:18:17  621461AF  A3C65C29   \n",
       "2  4000.00  34448.04  A71C76B8  2020-03-01  00:18:30  621461AF  A3C65C29   \n",
       "3   299.98   7399.71  8A1BC467  2020-03-01  00:19:06  621461AF  A3C65C29   \n",
       "4   999.96   8399.67  A8DA3378  2020-03-01  00:19:17  091D584F  2618045A   \n",
       "\n",
       "   对方名称长度        开户日期    开户机构代号  性别  年龄  标签  \n",
       "0      45  2014-02-28  37BC2F75   0  28 NaN  \n",
       "1       6  2013-12-27  C3992E9A   0  31 NaN  \n",
       "2       6  2015-02-14  F3F27A32   0  31 NaN  \n",
       "3       6  2013-12-27  C3992E9A   0  31 NaN  \n",
       "4       6  2013-12-27  C3992E9A   0  31 NaN  "
      ]
     },
     "execution_count": 6,
     "metadata": {},
     "output_type": "execute_result"
    }
   ],
   "source": [
    "df.head()"
   ]
  },
  {
   "cell_type": "markdown",
   "id": "5b3080fb-ae64-4a24-aa96-3adc3f715300",
   "metadata": {},
   "source": [
    "# 金额特征构建"
   ]
  },
  {
   "cell_type": "code",
   "execution_count": 7,
   "id": "ff75c4ae-b037-4b3e-a88b-d21cfacb30a7",
   "metadata": {},
   "outputs": [],
   "source": [
    "df['交易金额'] = df['交易金额'].fillna(0.)\n",
    "df['账户余额'] = df['账户余额'].fillna(0.)\n",
    "\n",
    "df['退款标记'] = (df['交易金额'] < 0).astype(int)\n",
    "df['交易金额大于账户余额'] = (df['交易金额'] > df['账户余额']).astype(int)\n",
    "\n",
    "df['原账户余额'] = df['交易金额'] + df['账户余额']\n",
    "df['消费比例'] = df['交易金额'] / (df['账户余额']+1)\n",
    "\n",
    "money_features = []\n",
    "for f in ['交易金额', '账户余额', '原账户余额']:\n",
    "    X = df[f]\n",
    "    df[f'{f}_normalize'] = (X - X.min()) / (X.max() - X.min())\n",
    "    money_features += [f'{f}_normalize']\n",
    "\n",
    "money_features += ['消费比例']"
   ]
  },
  {
   "cell_type": "markdown",
   "id": "2ce9ece8-9c12-4850-bb96-6c176a8d74a1",
   "metadata": {},
   "source": [
    "# 日期特征构建"
   ]
  },
  {
   "cell_type": "code",
   "execution_count": 8,
   "id": "1578cae3-29d1-4876-a8c1-42e9d40b4ec7",
   "metadata": {},
   "outputs": [
    {
     "name": "stderr",
     "output_type": "stream",
     "text": [
      "/tmp/ipykernel_2438234/4066833997.py:5: FutureWarning: Series.dt.weekofyear and Series.dt.week have been deprecated. Please use Series.dt.isocalendar().week instead.\n",
      "  df['交易日期_weekofyear'] = df[f].dt.weekofyear\n",
      "100%|██████████| 816270/816270 [00:01<00:00, 654947.78it/s]\n",
      "100%|██████████| 816270/816270 [00:00<00:00, 1292686.67it/s]\n",
      "100%|██████████| 816270/816270 [00:00<00:00, 1330311.57it/s]\n",
      "100%|██████████| 816270/816270 [00:00<00:00, 1329263.07it/s]\n",
      "100%|██████████| 816270/816270 [00:00<00:00, 1127532.41it/s]\n",
      "100%|██████████| 816270/816270 [00:00<00:00, 980069.75it/s] \n"
     ]
    },
    {
     "data": {
      "text/plain": [
       "['交易日期_month',\n",
       " '交易日期_day',\n",
       " '交易日期_weekofyear',\n",
       " '交易日期_dayofyear',\n",
       " '交易日期_dayofweek',\n",
       " '交易日期_is_wknd',\n",
       " '交易日期_is_month_start',\n",
       " '交易日期_is_month_end',\n",
       " '交易日期_相对天',\n",
       " '交易时间_小时',\n",
       " '交易时间_分',\n",
       " '交易时间_秒',\n",
       " '交易时间_总分',\n",
       " '交易时间_总秒']"
      ]
     },
     "execution_count": 8,
     "metadata": {},
     "output_type": "execute_result"
    }
   ],
   "source": [
    "f = '交易日期_datetime'\n",
    "df[f] = pd.to_datetime(df['交易日期'].astype(str), format='%Y-%m-%d')\n",
    "df['交易日期_month'] = df[f].dt.month\n",
    "df['交易日期_day'] = df[f].dt.day\n",
    "df['交易日期_weekofyear'] = df[f].dt.weekofyear\n",
    "df['交易日期_dayofyear'] = df[f].dt.dayofyear\n",
    "df['交易日期_dayofweek'] = df[f].dt.dayofweek\n",
    "df['交易日期_is_wknd'] = df[f].dt.dayofweek // 6\n",
    "df['交易日期_is_month_start'] = df[f].dt.is_month_start.astype(int)\n",
    "df['交易日期_is_month_end'] = df[f].dt.is_month_end.astype(int)\n",
    "df['交易日期_相对天'] = (df[f].max() - df[f]).dt.days\n",
    "\n",
    "del df[f]\n",
    "\n",
    "time_features = [f for f in df.columns if f.startswith('交易日期_')]\n",
    "\n",
    "f = '交易时间_split'\n",
    "df['交易时间_split'] = df['交易时间'].progress_apply(lambda x:x.split(':'))\n",
    "df['交易时间_小时'] = df[f].progress_apply(lambda x: int(x[0]))\n",
    "df['交易时间_分'] = df[f].progress_apply(lambda x: int(x[1]))\n",
    "df['交易时间_秒'] = df[f].progress_apply(lambda x: int(x[2]))\n",
    "df['交易时间_总分'] = df[f].progress_apply(lambda x: int(x[0]) * 60 + int(x[1]))\n",
    "df['交易时间_总秒'] = np.log(df[f].progress_apply(lambda x: int(x[0]) * 3600 + int(x[1])*60 + int(x[2]))+1)\n",
    "del df[f]\n",
    "    \n",
    "time_features += [f for f in df.columns if f.startswith('交易时间_')]\n",
    "\n",
    "time_features"
   ]
  },
  {
   "cell_type": "code",
   "execution_count": 9,
   "id": "76218efb-3f5b-413f-853c-63a814cd70d8",
   "metadata": {},
   "outputs": [
    {
     "name": "stderr",
     "output_type": "stream",
     "text": [
      "频次统计与交叉: 100%|██████████| 13/13 [00:01<00:00,  6.70it/s]\n"
     ]
    }
   ],
   "source": [
    "group_features = []\n",
    "for f in tqdm(['账户代号', '对方账号', '借贷标记', '对方行号',\n",
    "               '交易渠道', '对方名称长度', '开户机构代号', '摘要代号', \n",
    "               '性别', '年龄'] + ['交易时间_小时', '交易时间_分', '交易时间_秒'], desc='频次统计与交叉'):\n",
    "\n",
    "    tmp = pd.DataFrame()\n",
    "    value_counts = df[f].map(df[f].value_counts())\n",
    "    tmp[f'{f}_freq'] = value_counts\n",
    "    group_features += [f'{f}_freq']\n",
    "\n",
    "    for ff in money_features:\n",
    "        tmp[f'{f}_{ff}_freq'] = (df[ff] / value_counts).fillna(0)\n",
    "        group_features += [f'{f}_{ff}_freq']\n",
    "    df = pd.concat([df, tmp], axis=1)"
   ]
  },
  {
   "cell_type": "code",
   "execution_count": 10,
   "id": "b206a1d9-3b67-4ba6-b97d-08ff2e3b4392",
   "metadata": {},
   "outputs": [
    {
     "data": {
      "text/html": [
       "<div>\n",
       "<style scoped>\n",
       "    .dataframe tbody tr th:only-of-type {\n",
       "        vertical-align: middle;\n",
       "    }\n",
       "\n",
       "    .dataframe tbody tr th {\n",
       "        vertical-align: top;\n",
       "    }\n",
       "\n",
       "    .dataframe thead th {\n",
       "        text-align: right;\n",
       "    }\n",
       "</style>\n",
       "<table border=\"1\" class=\"dataframe\">\n",
       "  <thead>\n",
       "    <tr style=\"text-align: right;\">\n",
       "      <th></th>\n",
       "      <th>账户代号</th>\n",
       "      <th>开户日期</th>\n",
       "      <th>开户机构代号</th>\n",
       "      <th>性别</th>\n",
       "      <th>年龄</th>\n",
       "      <th>标签</th>\n",
       "    </tr>\n",
       "  </thead>\n",
       "  <tbody>\n",
       "    <tr>\n",
       "      <th>0</th>\n",
       "      <td>DDF394282B1E1508</td>\n",
       "      <td>2018-04-13</td>\n",
       "      <td>577BCC91</td>\n",
       "      <td>1</td>\n",
       "      <td>25</td>\n",
       "      <td>NaN</td>\n",
       "    </tr>\n",
       "    <tr>\n",
       "      <th>1</th>\n",
       "      <td>CAE68290A37CC77D</td>\n",
       "      <td>2016-04-02</td>\n",
       "      <td>34ED066D</td>\n",
       "      <td>1</td>\n",
       "      <td>27</td>\n",
       "      <td>NaN</td>\n",
       "    </tr>\n",
       "    <tr>\n",
       "      <th>2</th>\n",
       "      <td>41E4A8AECE47E5F3</td>\n",
       "      <td>2014-09-28</td>\n",
       "      <td>30BB3825</td>\n",
       "      <td>1</td>\n",
       "      <td>44</td>\n",
       "      <td>NaN</td>\n",
       "    </tr>\n",
       "    <tr>\n",
       "      <th>3</th>\n",
       "      <td>163C42F2A3FD518E</td>\n",
       "      <td>2010-06-11</td>\n",
       "      <td>34ED066D</td>\n",
       "      <td>1</td>\n",
       "      <td>55</td>\n",
       "      <td>0.0</td>\n",
       "    </tr>\n",
       "    <tr>\n",
       "      <th>4</th>\n",
       "      <td>6FBFEB03252FDB9F</td>\n",
       "      <td>2015-08-20</td>\n",
       "      <td>D64A340B</td>\n",
       "      <td>0</td>\n",
       "      <td>44</td>\n",
       "      <td>NaN</td>\n",
       "    </tr>\n",
       "  </tbody>\n",
       "</table>\n",
       "</div>"
      ],
      "text/plain": [
       "               账户代号        开户日期    开户机构代号  性别  年龄   标签\n",
       "0  DDF394282B1E1508  2018-04-13  577BCC91   1  25  NaN\n",
       "1  CAE68290A37CC77D  2016-04-02  34ED066D   1  27  NaN\n",
       "2  41E4A8AECE47E5F3  2014-09-28  30BB3825   1  44  NaN\n",
       "3  163C42F2A3FD518E  2010-06-11  34ED066D   1  55  0.0\n",
       "4  6FBFEB03252FDB9F  2015-08-20  D64A340B   0  44  NaN"
      ]
     },
     "execution_count": 10,
     "metadata": {},
     "output_type": "execute_result"
    }
   ],
   "source": [
    "user = pd.merge(data_static, data_label, on='账户代号', how='left')\n",
    "user.head()"
   ]
  },
  {
   "cell_type": "code",
   "execution_count": 11,
   "id": "96f9f8d8-c759-4f77-b264-948ecd04f718",
   "metadata": {},
   "outputs": [
    {
     "name": "stderr",
     "output_type": "stream",
     "text": [
      "Groupby: 借贷标记=0: 100%|██████████| 65/65 [00:08<00:00,  7.36it/s]\n",
      "Groupby: 借贷标记=0: 100%|██████████| 14/14 [00:11<00:00,  1.19it/s]\n",
      "Groupby: 借贷标记=1: 100%|██████████| 65/65 [00:06<00:00, 10.27it/s]\n",
      "Groupby: 借贷标记=1: 100%|██████████| 14/14 [00:11<00:00,  1.24it/s]\n",
      "Groupby: 退款标记=0: 100%|██████████| 65/65 [00:11<00:00,  5.50it/s]\n",
      "Groupby: 退款标记=0: 100%|██████████| 14/14 [00:12<00:00,  1.12it/s]\n",
      "Groupby: 退款标记=1: 100%|██████████| 65/65 [00:01<00:00, 40.21it/s]\n",
      "Groupby: 退款标记=1: 100%|██████████| 14/14 [00:01<00:00,  8.38it/s]\n"
     ]
    }
   ],
   "source": [
    "f = '账户代号'\n",
    "\n",
    "for ff in ['借贷标记', '退款标记']:\n",
    "    for i in [0, 1]:\n",
    "        for fff in tqdm(group_features, desc=f'Groupby: {ff}={i}'):\n",
    "            name = ['mean', 'median', 'max', 'std']\n",
    "            agg = ['mean', 'median', 'max', 'std']\n",
    "            columns = [f] + [f'{ff}_{fff}_{x}{i}' for x in name]\n",
    "            tmp = df[df[ff]==i].groupby(f)[fff].agg(agg).reset_index().fillna(0)\n",
    "            tmp.columns = columns\n",
    "            user = user.merge(tmp, how='left', on=f)\n",
    "\n",
    "        for fff in tqdm(time_features, desc=f'Groupby: {ff}={i}'):\n",
    "            name = ['mean', 'min', 'max', 'ptp']\n",
    "            agg = ['mean', 'min', 'max', np.ptp]\n",
    "            columns = [f] + [f'{ff}_{fff}_{x}{i}' for x in name]\n",
    "            tmp = df[df[ff]==i].groupby(f)[fff].agg(agg).reset_index().fillna(0)\n",
    "            tmp.columns = columns\n",
    "            user = user.merge(tmp, how='left', on=f)         "
   ]
  },
  {
   "cell_type": "code",
   "execution_count": 12,
   "id": "19dcd872-781f-4a28-be99-8d66dce9b8fb",
   "metadata": {},
   "outputs": [
    {
     "name": "stderr",
     "output_type": "stream",
     "text": [
      "/tmp/ipykernel_2438234/3585167708.py:31: PerformanceWarning: DataFrame is highly fragmented.  This is usually the result of calling `frame.insert` many times, which has poor performance.  Consider joining all columns at once using pd.concat(axis=1) instead. To get a de-fragmented frame, use `newframe = frame.copy()`\n",
      "  user['开户年'] = LabelEncoder().fit_transform(user['开户日期'].apply(lambda x: x.split('-')[0]))\n",
      "/tmp/ipykernel_2438234/3585167708.py:32: PerformanceWarning: DataFrame is highly fragmented.  This is usually the result of calling `frame.insert` many times, which has poor performance.  Consider joining all columns at once using pd.concat(axis=1) instead. To get a de-fragmented frame, use `newframe = frame.copy()`\n",
      "  user['开户月'] = LabelEncoder().fit_transform(user['开户日期'].apply(lambda x: x.split('-')[1]))\n"
     ]
    }
   ],
   "source": [
    "tmp = pd.DataFrame()\n",
    "\n",
    "for f in ['账户代号']:\n",
    "    # 操作次数\n",
    "    tmp[f'{f}_操作次数'] = user[f].map(df[f].value_counts()) \n",
    "\n",
    "    for ff in ['借贷标记', '退款标记']:\n",
    "        # 转入次数、转出次数、转入次数占比\n",
    "        tmp[f'{f}_{ff}_转入次数'] = user[f].map(df.groupby(f)[ff].apply(sum))\n",
    "        tmp[f'{f}_{ff}_转出次数'] = tmp[f'{f}_操作次数'] - tmp[f'{f}_{ff}_转入次数']\n",
    "        tmp[f'{f}_{ff}_比例'] = tmp[f'{f}_{ff}_转入次数'] / tmp[f'{f}_操作次数']    \n",
    "        \n",
    "        # 转入金额、转出金额、转入金额占比\n",
    "        tmp[f'{f}_{ff}_转入金额'] = user[f].map(df[df[ff]==1].groupby(f)['交易金额'].apply(sum))\n",
    "        tmp[f'{f}_{ff}_转出金额'] = user[f].map(df[df[ff]==0].groupby(f)['交易金额'].apply(sum))\n",
    "        tmp[f'{f}_{ff}_转入金额比例'] = tmp[f'{f}_{ff}_转入金额'] / (tmp[f'{f}_{ff}_转入金额'] + tmp[f'{f}_{ff}_转出金额'])\n",
    "\n",
    "        # 转入人数、转出人数、转入人数占比\n",
    "        tmp[f'{f}_{ff}_转入人数'] = user[f].map(df[df[ff]==1].groupby(f)['对方账号'].apply('nunique'))\n",
    "        tmp[f'{f}_{ff}_转出人数'] = user[f].map(df[df[ff]==0].groupby(f)['对方账号'].apply('nunique'))\n",
    "        tmp[f'{f}_{ff}_转入人数占比'] = tmp[f'{f}_{ff}_转入人数'] / (tmp[f'{f}_{ff}_转入人数'] + tmp[f'{f}_{ff}_转出人数'])\n",
    "        \n",
    "    # for ff in ['交易日期', '交易日期_day', '交易日期_dayofweek']:\n",
    "    for ff in ['交易日期']:\n",
    "        # 转账日期数、比例、差\n",
    "        tmp[f'{f}_{ff}数'] = user[f].map(df.groupby(f)[ff].apply('nunique'))\n",
    "        tmp[f'{f}_{ff}比例'] = tmp[f'{f}_{ff}数'] / tmp[f'{f}_操作次数'] # 强特\n",
    "        tmp[f'{f}_{ff}差'] = tmp[f'{f}_操作次数'] - tmp[f'{f}_{ff}数']\n",
    "        tmp[f'{f}_{ff}差比'] = tmp[f'{f}_{ff}差'] / tmp[f'{f}_{ff}数']\n",
    "\n",
    "user['开户年'] = LabelEncoder().fit_transform(user['开户日期'].apply(lambda x: x.split('-')[0]))\n",
    "user['开户月'] = LabelEncoder().fit_transform(user['开户日期'].apply(lambda x: x.split('-')[1]))\n",
    "user['开户机构代号'] = LabelEncoder().fit_transform(user['开户机构代号'])        \n",
    "user['开户日期'] = LabelEncoder().fit_transform(user['开户日期'])        \n",
    "user['年龄'] = LabelEncoder().fit_transform(user['年龄'])    \n",
    "user = pd.concat([user, tmp], axis=1)"
   ]
  },
  {
   "cell_type": "markdown",
   "id": "26e4e33c-5729-47ed-b318-76c9b0091ee5",
   "metadata": {},
   "source": [
    "# TF-IDF特征构建"
   ]
  },
  {
   "cell_type": "code",
   "execution_count": 13,
   "id": "3f227811-452c-4371-823c-6feee63ad200",
   "metadata": {},
   "outputs": [
    {
     "name": "stdout",
     "output_type": "stream",
     "text": [
      "Before: (6000, 1000)\n",
      "After: (6000, 100)\n",
      "Before: (6000, 1000)\n",
      "After: (6000, 100)\n",
      "Before: (6000, 425)\n",
      "After: (6000, 100)\n",
      "Before: (6000, 158)\n",
      "After: (6000, 100)\n",
      "Before: (6000, 21)\n",
      "After: (6000, 21)\n"
     ]
    }
   ],
   "source": [
    "import scipy.sparse as sp\n",
    "from sklearn.feature_extraction.text import TfidfVectorizer, CountVectorizer\n",
    "from gensim.models import Word2Vec\n",
    "\n",
    "def svd(x, k=100):\n",
    "    U, S, V = sp.linalg.svds(x, k=k)\n",
    "    return U * S\n",
    "\n",
    "\n",
    "def get_tfidf_feature(text, k=100): # 100\n",
    "    word_vectorizer = TfidfVectorizer(\n",
    "        sublinear_tf=True,\n",
    "        strip_accents='unicode',\n",
    "        analyzer='word',\n",
    "        token_pattern=r'\\w{1,}',\n",
    "        stop_words=[',', ':', ' ', '.', '-'],\n",
    "        ngram_range=(1, 1),\n",
    "        max_features=1000)\n",
    "\n",
    "    tfidf = word_vectorizer.fit_transform(text).tocsr().astype('float')\n",
    "    print('Before:', tfidf.shape)\n",
    "    if k:\n",
    "        tfidf = svd(tfidf, k=k)\n",
    "    else:\n",
    "        tfidf = tfidf.A\n",
    "    print('After:', tfidf.shape)\n",
    "    return tfidf\n",
    "\n",
    "def get_cnt_feature(text, k=100): # 100\n",
    "    word_vectorizer = CountVectorizer(analyzer='word', \n",
    "                                      ngram_range=(1, 1), max_df=1.0, min_df=1,\n",
    "                                      token_pattern=r'\\w{1,}',\n",
    "                                      strip_accents='unicode',\n",
    "                                      stop_words=[',', ':', ' ', '.', '-'],\n",
    "                                      max_features=1000)\n",
    "\n",
    "    cnt_vec = word_vectorizer.fit_transform(text).tocsr().astype('float')\n",
    "    print('Before:', cnt_vec.shape)\n",
    "    if k:\n",
    "        cnt_vec = svd(cnt_vec, k=k)\n",
    "    else:\n",
    "        cnt_vec = cnt_vec.A\n",
    "    print('After:', cnt_vec.shape)\n",
    "    return cnt_vec\n",
    "\n",
    "df = df.sort_values('交易日期')\n",
    "\n",
    "for f, k in zip(['对方账号', '对方行号', '开户机构代号', '摘要代号', '交易渠道'], [100, 100, 100, 100, None]):\n",
    "    tokens = user['账户代号'].map(df.groupby('账户代号')[f].apply(lambda x: '-'.join(list(x)))).values\n",
    "    emb = get_tfidf_feature(tokens, k=k)\n",
    "    emb = pd.DataFrame(emb, columns=[f'{f}0_{i}' for i in range(emb.shape[1])])\n",
    "    user = pd.concat([user, emb], axis=1)\n",
    "    \n",
    "    # print(f'CountVec: {f}, K={k}')\n",
    "    # emb = get_cnt_feature(tokens, k=k)\n",
    "    # emb = pd.DataFrame(emb, columns=[f'{f}1_{i}' for i in range(emb.shape[1])])\n",
    "    # user = pd.concat([user, emb], axis=1)    "
   ]
  },
  {
   "cell_type": "code",
   "execution_count": 14,
   "id": "e3693649-b323-49ff-925d-a540f8238253",
   "metadata": {},
   "outputs": [
    {
     "name": "stdout",
     "output_type": "stream",
     "text": [
      "特征数目总计：1713\n"
     ]
    },
    {
     "data": {
      "text/plain": [
       "['性别', '年龄', '开户机构代号', '开户年', '开户月']"
      ]
     },
     "execution_count": 14,
     "metadata": {},
     "output_type": "execute_result"
    }
   ],
   "source": [
    "ycol = '标签'\n",
    "drop_list = ['账户代号', '开户日期'] + [ycol]\n",
    "categorical_feature = ['性别', '年龄', '开户机构代号', '开户年', '开户月']\n",
    "\n",
    "features = [c for c in user.columns if c not in drop_list]\n",
    "assert len(features) - len(set(features)) == 0, '有重复特征！'\n",
    "print(f'特征数目总计：{len(features)}')\n",
    "\n",
    "for i in categorical_feature:\n",
    "    if i in features:\n",
    "        user[i] = user[i].astype('category')\n",
    "        \n",
    "categorical_feature        "
   ]
  },
  {
   "cell_type": "code",
   "execution_count": 15,
   "id": "f9841055-da3e-4b9b-be82-904d67a5c52d",
   "metadata": {},
   "outputs": [],
   "source": [
    "train = user[user['标签'].notnull()].reset_index(drop=True)\n",
    "test = user[user['标签'].isnull()].reset_index(drop=True)"
   ]
  },
  {
   "cell_type": "markdown",
   "id": "375e1340-bd38-41f6-b12b-e58f7cf84e43",
   "metadata": {},
   "source": [
    "# LGB训练"
   ]
  },
  {
   "cell_type": "code",
   "execution_count": 16,
   "id": "4d6f1ca6-a59d-483f-8049-9b15738079b1",
   "metadata": {},
   "outputs": [],
   "source": [
    "def model_lgb_training(train, suff='SKF0'):\n",
    "    if suff.startswith('SKF'):\n",
    "        KF = StratifiedKFold(n_splits=n_splits, shuffle=True, random_state=seed+int(suff[-1]))\n",
    "    elif suff.startswith('KF'):\n",
    "        KF = KFold(n_splits=n_splits, shuffle=True, random_state=seed+int(suff[-1]))\n",
    "    else:\n",
    "        raise RuntimeError\n",
    "        \n",
    "    params_lgb = {\n",
    "        'boosting': 'gbdt',\n",
    "        'objective': 'binary',\n",
    "        'metric': 'auc',\n",
    "        'force_row_wise': True,\n",
    "        'is_unbalance': True,\n",
    "        'verbose': -1,\n",
    "        'random_state': seed,\n",
    "        'learning_rate': learning_rate,\n",
    "        'max_depth': max_depth,\n",
    "        'num_leaves': num_leaves,\n",
    "        'subsample': subsample,\n",
    "        'subsample_freq': subsample_freq,\n",
    "        'colsample_bytree': colsample_bytree,\n",
    "        'reg_alpha': reg_alpha,\n",
    "        'reg_lambda': reg_lambda,\n",
    "        'n_jobs': n_jobs,\n",
    "    }\n",
    "\n",
    "    oof_lgb = np.zeros(len(train))\n",
    "    df_importance_list = []\n",
    "    t = 0\n",
    "\n",
    "    for fold, (trn_idx, val_idx) in enumerate(KF.split(train, train[ycol])):\n",
    "        t0 = time.time()\n",
    "        print(f'-------------------- lgb fold {fold+1} --------------------')\n",
    "\n",
    "        trn_data = lgb.Dataset(\n",
    "            train.iloc[trn_idx][features], label=train.iloc[trn_idx][ycol])\n",
    "        val_data = lgb.Dataset(\n",
    "            train.iloc[val_idx][features], label=train.iloc[val_idx][ycol], reference=trn_data)\n",
    "\n",
    "        clf_lgb = lgb.train(\n",
    "            params=params_lgb,\n",
    "            train_set=trn_data,\n",
    "            valid_sets=[trn_data, val_data],\n",
    "            valid_names=('train', 'val'),\n",
    "            num_boost_round=num_boost_round,\n",
    "            categorical_feature=categorical_feature,\n",
    "            callbacks=[\n",
    "                lgb.early_stopping(early_stopping_rounds,\n",
    "                                   first_metric_only=True),\n",
    "                lgb.log_evaluation(verbose_eval),\n",
    "            ],\n",
    "        )\n",
    "\n",
    "        val_output = clf_lgb.predict(\n",
    "            train.iloc[val_idx][features], num_iteration=clf_lgb.best_iteration)\n",
    "\n",
    "        oof_lgb[val_idx] = val_output\n",
    "\n",
    "        df_importance = pd.DataFrame({\n",
    "            'column': features,\n",
    "            'importance_split': clf_lgb.feature_importance(importance_type='split'),\n",
    "            'importance_gain': clf_lgb.feature_importance(importance_type='gain'),\n",
    "        })\n",
    "        df_importance_list.append(df_importance)\n",
    "\n",
    "        clf_lgb.save_model(f'models/{suff}_lgb_{fold}.txt')\n",
    "        del trn_data, val_data, clf_lgb\n",
    "        gc.collect()\n",
    "        t1 = time.time()\n",
    "        t += t1 - t0\n",
    "        print(f\"It takes {t1-t0} seconds to train fold {fold+1}\\n\")\n",
    "\n",
    "    valid_auc = roc_auc_score(train[ycol], oof_lgb)\n",
    "\n",
    "    df_importance = pd.concat(df_importance_list)\n",
    "    df_importance = df_importance.groupby('column').agg('mean').reset_index()\n",
    "    df_importance = df_importance.sort_values('importance_gain', ascending=False)\n",
    "\n",
    "    print(f\"It takes {t} seconds to train model\\n\")\n",
    "\n",
    "    print('模型训练完成！')\n",
    "    print(f\"K 折 valid-auc: {valid_auc:.6f}\")\n",
    "    print(\"特征重要性：\")\n",
    "    print('='*50)\n",
    "    print(df_importance.head(30))\n",
    "    print('='*50)\n",
    "    return oof_lgb"
   ]
  },
  {
   "cell_type": "markdown",
   "id": "7838aebd-79e6-45aa-8674-93e85f2a2a9b",
   "metadata": {},
   "source": [
    "# 两个种子两种划分方式，十折，一共40个模型\n",
    "模型文件放在`/models`文件夹里，需要手动新建（懒得写了）"
   ]
  },
  {
   "cell_type": "code",
   "execution_count": 17,
   "id": "7fc20832-1589-4427-bb38-8b27befe92c9",
   "metadata": {},
   "outputs": [
    {
     "name": "stdout",
     "output_type": "stream",
     "text": [
      "-------------------- lgb fold 1 --------------------\n"
     ]
    },
    {
     "name": "stderr",
     "output_type": "stream",
     "text": [
      "/home/jtli/anaconda3/lib/python3.9/site-packages/lightgbm/basic.py:2068: UserWarning: categorical_feature in Dataset is overridden.\n",
      "New categorical_feature is ['年龄', '开户年', '开户月', '开户机构代号', '性别']\n",
      "  _log_warning('categorical_feature in Dataset is overridden.\\n'\n",
      "/home/jtli/anaconda3/lib/python3.9/site-packages/lightgbm/basic.py:1780: UserWarning: Overriding the parameters from Reference Dataset.\n",
      "  _log_warning('Overriding the parameters from Reference Dataset.')\n",
      "/home/jtli/anaconda3/lib/python3.9/site-packages/lightgbm/basic.py:1513: UserWarning: categorical_column in param dict is overridden.\n",
      "  _log_warning(f'{cat_alias} in param dict is overridden.')\n"
     ]
    },
    {
     "name": "stdout",
     "output_type": "stream",
     "text": [
      "Training until validation scores don't improve for 100 rounds\n",
      "[200]\ttrain's auc: 1\tval's auc: 0.961902\n",
      "[400]\ttrain's auc: 1\tval's auc: 0.964181\n",
      "Early stopping, best iteration is:\n",
      "[337]\ttrain's auc: 1\tval's auc: 0.964832\n",
      "Evaluated only: auc\n",
      "It takes 12.70993947982788 seconds to train fold 1\n",
      "\n",
      "-------------------- lgb fold 2 --------------------\n"
     ]
    },
    {
     "name": "stderr",
     "output_type": "stream",
     "text": [
      "/home/jtli/anaconda3/lib/python3.9/site-packages/lightgbm/basic.py:2068: UserWarning: categorical_feature in Dataset is overridden.\n",
      "New categorical_feature is ['年龄', '开户年', '开户月', '开户机构代号', '性别']\n",
      "  _log_warning('categorical_feature in Dataset is overridden.\\n'\n",
      "/home/jtli/anaconda3/lib/python3.9/site-packages/lightgbm/basic.py:1780: UserWarning: Overriding the parameters from Reference Dataset.\n",
      "  _log_warning('Overriding the parameters from Reference Dataset.')\n",
      "/home/jtli/anaconda3/lib/python3.9/site-packages/lightgbm/basic.py:1513: UserWarning: categorical_column in param dict is overridden.\n",
      "  _log_warning(f'{cat_alias} in param dict is overridden.')\n"
     ]
    },
    {
     "name": "stdout",
     "output_type": "stream",
     "text": [
      "Training until validation scores don't improve for 100 rounds\n",
      "Early stopping, best iteration is:\n",
      "[99]\ttrain's auc: 0.999937\tval's auc: 0.967676\n",
      "Evaluated only: auc\n",
      "It takes 5.7808146476745605 seconds to train fold 2\n",
      "\n",
      "-------------------- lgb fold 3 --------------------\n"
     ]
    },
    {
     "name": "stderr",
     "output_type": "stream",
     "text": [
      "/home/jtli/anaconda3/lib/python3.9/site-packages/lightgbm/basic.py:2068: UserWarning: categorical_feature in Dataset is overridden.\n",
      "New categorical_feature is ['年龄', '开户年', '开户月', '开户机构代号', '性别']\n",
      "  _log_warning('categorical_feature in Dataset is overridden.\\n'\n",
      "/home/jtli/anaconda3/lib/python3.9/site-packages/lightgbm/basic.py:1780: UserWarning: Overriding the parameters from Reference Dataset.\n",
      "  _log_warning('Overriding the parameters from Reference Dataset.')\n",
      "/home/jtli/anaconda3/lib/python3.9/site-packages/lightgbm/basic.py:1513: UserWarning: categorical_column in param dict is overridden.\n",
      "  _log_warning(f'{cat_alias} in param dict is overridden.')\n"
     ]
    },
    {
     "name": "stdout",
     "output_type": "stream",
     "text": [
      "Training until validation scores don't improve for 100 rounds\n",
      "Early stopping, best iteration is:\n",
      "[23]\ttrain's auc: 0.996932\tval's auc: 0.988157\n",
      "Evaluated only: auc\n",
      "It takes 3.6054177284240723 seconds to train fold 3\n",
      "\n",
      "-------------------- lgb fold 4 --------------------\n"
     ]
    },
    {
     "name": "stderr",
     "output_type": "stream",
     "text": [
      "/home/jtli/anaconda3/lib/python3.9/site-packages/lightgbm/basic.py:2068: UserWarning: categorical_feature in Dataset is overridden.\n",
      "New categorical_feature is ['年龄', '开户年', '开户月', '开户机构代号', '性别']\n",
      "  _log_warning('categorical_feature in Dataset is overridden.\\n'\n",
      "/home/jtli/anaconda3/lib/python3.9/site-packages/lightgbm/basic.py:1780: UserWarning: Overriding the parameters from Reference Dataset.\n",
      "  _log_warning('Overriding the parameters from Reference Dataset.')\n",
      "/home/jtli/anaconda3/lib/python3.9/site-packages/lightgbm/basic.py:1513: UserWarning: categorical_column in param dict is overridden.\n",
      "  _log_warning(f'{cat_alias} in param dict is overridden.')\n"
     ]
    },
    {
     "name": "stdout",
     "output_type": "stream",
     "text": [
      "Training until validation scores don't improve for 100 rounds\n",
      "Early stopping, best iteration is:\n",
      "[44]\ttrain's auc: 0.99868\tval's auc: 0.965712\n",
      "Evaluated only: auc\n",
      "It takes 4.176184415817261 seconds to train fold 4\n",
      "\n",
      "-------------------- lgb fold 5 --------------------\n"
     ]
    },
    {
     "name": "stderr",
     "output_type": "stream",
     "text": [
      "/home/jtli/anaconda3/lib/python3.9/site-packages/lightgbm/basic.py:2068: UserWarning: categorical_feature in Dataset is overridden.\n",
      "New categorical_feature is ['年龄', '开户年', '开户月', '开户机构代号', '性别']\n",
      "  _log_warning('categorical_feature in Dataset is overridden.\\n'\n",
      "/home/jtli/anaconda3/lib/python3.9/site-packages/lightgbm/basic.py:1780: UserWarning: Overriding the parameters from Reference Dataset.\n",
      "  _log_warning('Overriding the parameters from Reference Dataset.')\n",
      "/home/jtli/anaconda3/lib/python3.9/site-packages/lightgbm/basic.py:1513: UserWarning: categorical_column in param dict is overridden.\n",
      "  _log_warning(f'{cat_alias} in param dict is overridden.')\n"
     ]
    },
    {
     "name": "stdout",
     "output_type": "stream",
     "text": [
      "Training until validation scores don't improve for 100 rounds\n",
      "[200]\ttrain's auc: 1\tval's auc: 0.988794\n",
      "[400]\ttrain's auc: 1\tval's auc: 0.991035\n",
      "Early stopping, best iteration is:\n",
      "[365]\ttrain's auc: 1\tval's auc: 0.991484\n",
      "Evaluated only: auc\n",
      "It takes 13.331851720809937 seconds to train fold 5\n",
      "\n",
      "-------------------- lgb fold 6 --------------------\n"
     ]
    },
    {
     "name": "stderr",
     "output_type": "stream",
     "text": [
      "/home/jtli/anaconda3/lib/python3.9/site-packages/lightgbm/basic.py:2068: UserWarning: categorical_feature in Dataset is overridden.\n",
      "New categorical_feature is ['年龄', '开户年', '开户月', '开户机构代号', '性别']\n",
      "  _log_warning('categorical_feature in Dataset is overridden.\\n'\n",
      "/home/jtli/anaconda3/lib/python3.9/site-packages/lightgbm/basic.py:1780: UserWarning: Overriding the parameters from Reference Dataset.\n",
      "  _log_warning('Overriding the parameters from Reference Dataset.')\n",
      "/home/jtli/anaconda3/lib/python3.9/site-packages/lightgbm/basic.py:1513: UserWarning: categorical_column in param dict is overridden.\n",
      "  _log_warning(f'{cat_alias} in param dict is overridden.')\n"
     ]
    },
    {
     "name": "stdout",
     "output_type": "stream",
     "text": [
      "Training until validation scores don't improve for 100 rounds\n",
      "[200]\ttrain's auc: 1\tval's auc: 0.972816\n",
      "Early stopping, best iteration is:\n",
      "[201]\ttrain's auc: 1\tval's auc: 0.973179\n",
      "Evaluated only: auc\n",
      "It takes 8.526596546173096 seconds to train fold 6\n",
      "\n",
      "-------------------- lgb fold 7 --------------------\n"
     ]
    },
    {
     "name": "stderr",
     "output_type": "stream",
     "text": [
      "/home/jtli/anaconda3/lib/python3.9/site-packages/lightgbm/basic.py:2068: UserWarning: categorical_feature in Dataset is overridden.\n",
      "New categorical_feature is ['年龄', '开户年', '开户月', '开户机构代号', '性别']\n",
      "  _log_warning('categorical_feature in Dataset is overridden.\\n'\n",
      "/home/jtli/anaconda3/lib/python3.9/site-packages/lightgbm/basic.py:1780: UserWarning: Overriding the parameters from Reference Dataset.\n",
      "  _log_warning('Overriding the parameters from Reference Dataset.')\n",
      "/home/jtli/anaconda3/lib/python3.9/site-packages/lightgbm/basic.py:1513: UserWarning: categorical_column in param dict is overridden.\n",
      "  _log_warning(f'{cat_alias} in param dict is overridden.')\n"
     ]
    },
    {
     "name": "stdout",
     "output_type": "stream",
     "text": [
      "Training until validation scores don't improve for 100 rounds\n",
      "[200]\ttrain's auc: 1\tval's auc: 0.97017\n",
      "Early stopping, best iteration is:\n",
      "[217]\ttrain's auc: 1\tval's auc: 0.971591\n",
      "Evaluated only: auc\n",
      "It takes 9.00190782546997 seconds to train fold 7\n",
      "\n",
      "-------------------- lgb fold 8 --------------------\n"
     ]
    },
    {
     "name": "stderr",
     "output_type": "stream",
     "text": [
      "/home/jtli/anaconda3/lib/python3.9/site-packages/lightgbm/basic.py:2068: UserWarning: categorical_feature in Dataset is overridden.\n",
      "New categorical_feature is ['年龄', '开户年', '开户月', '开户机构代号', '性别']\n",
      "  _log_warning('categorical_feature in Dataset is overridden.\\n'\n",
      "/home/jtli/anaconda3/lib/python3.9/site-packages/lightgbm/basic.py:1780: UserWarning: Overriding the parameters from Reference Dataset.\n",
      "  _log_warning('Overriding the parameters from Reference Dataset.')\n",
      "/home/jtli/anaconda3/lib/python3.9/site-packages/lightgbm/basic.py:1513: UserWarning: categorical_column in param dict is overridden.\n",
      "  _log_warning(f'{cat_alias} in param dict is overridden.')\n"
     ]
    },
    {
     "name": "stdout",
     "output_type": "stream",
     "text": [
      "Training until validation scores don't improve for 100 rounds\n",
      "Early stopping, best iteration is:\n",
      "[13]\ttrain's auc: 0.994495\tval's auc: 0.950739\n",
      "Evaluated only: auc\n",
      "It takes 3.285428285598755 seconds to train fold 8\n",
      "\n",
      "-------------------- lgb fold 9 --------------------\n"
     ]
    },
    {
     "name": "stderr",
     "output_type": "stream",
     "text": [
      "/home/jtli/anaconda3/lib/python3.9/site-packages/lightgbm/basic.py:2068: UserWarning: categorical_feature in Dataset is overridden.\n",
      "New categorical_feature is ['年龄', '开户年', '开户月', '开户机构代号', '性别']\n",
      "  _log_warning('categorical_feature in Dataset is overridden.\\n'\n",
      "/home/jtli/anaconda3/lib/python3.9/site-packages/lightgbm/basic.py:1780: UserWarning: Overriding the parameters from Reference Dataset.\n",
      "  _log_warning('Overriding the parameters from Reference Dataset.')\n",
      "/home/jtli/anaconda3/lib/python3.9/site-packages/lightgbm/basic.py:1513: UserWarning: categorical_column in param dict is overridden.\n",
      "  _log_warning(f'{cat_alias} in param dict is overridden.')\n"
     ]
    },
    {
     "name": "stdout",
     "output_type": "stream",
     "text": [
      "Training until validation scores don't improve for 100 rounds\n",
      "[200]\ttrain's auc: 1\tval's auc: 0.973366\n",
      "Early stopping, best iteration is:\n",
      "[293]\ttrain's auc: 1\tval's auc: 0.975142\n",
      "Evaluated only: auc\n",
      "It takes 11.036489486694336 seconds to train fold 9\n",
      "\n",
      "-------------------- lgb fold 10 --------------------\n"
     ]
    },
    {
     "name": "stderr",
     "output_type": "stream",
     "text": [
      "/home/jtli/anaconda3/lib/python3.9/site-packages/lightgbm/basic.py:2068: UserWarning: categorical_feature in Dataset is overridden.\n",
      "New categorical_feature is ['年龄', '开户年', '开户月', '开户机构代号', '性别']\n",
      "  _log_warning('categorical_feature in Dataset is overridden.\\n'\n",
      "/home/jtli/anaconda3/lib/python3.9/site-packages/lightgbm/basic.py:1780: UserWarning: Overriding the parameters from Reference Dataset.\n",
      "  _log_warning('Overriding the parameters from Reference Dataset.')\n",
      "/home/jtli/anaconda3/lib/python3.9/site-packages/lightgbm/basic.py:1513: UserWarning: categorical_column in param dict is overridden.\n",
      "  _log_warning(f'{cat_alias} in param dict is overridden.')\n"
     ]
    },
    {
     "name": "stdout",
     "output_type": "stream",
     "text": [
      "Training until validation scores don't improve for 100 rounds\n",
      "Early stopping, best iteration is:\n",
      "[81]\ttrain's auc: 0.999885\tval's auc: 0.960293\n",
      "Evaluated only: auc\n",
      "It takes 5.151548385620117 seconds to train fold 10\n",
      "\n",
      "It takes 76.60617852210999 seconds to train model\n",
      "\n",
      "模型训练完成！\n",
      "K 折 valid-auc: 0.957878\n",
      "特征重要性：\n",
      "==================================================\n",
      "                                       column  importance_split  \\\n",
      "438                  借贷标记_对方账号_消费比例_freq_max1              25.1   \n",
      "1103                 退款标记_交易日期_dayofyear_ptp0              22.3   \n",
      "1061                              账户代号_交易日期比例              38.0   \n",
      "1059                              账户代号_交易日期差比              31.8   \n",
      "749                                  对方行号0_96              40.1   \n",
      "444                  借贷标记_对方账号_消费比例_freq_std1              25.8   \n",
      "1151                       退款标记_交易日期_相对天_ptp0               7.0   \n",
      "586     借贷标记_摘要代号_交易金额_normalize_freq_median1              14.2   \n",
      "1063                           账户代号_借贷标记_转入人数              20.7   \n",
      "849                                  对方账号0_96              15.2   \n",
      "346   借贷标记_对方名称长度_交易金额_normalize_freq_median1              12.6   \n",
      "174               借贷标记_交易时间_小时_消费比例_freq_max1               8.5   \n",
      "422        借贷标记_对方账号_交易金额_normalize_freq_max1              13.4   \n",
      "43                   借贷标记_交易日期_dayofyear_ptp0              21.5   \n",
      "1031                                 摘要代号0_75              22.6   \n",
      "853                                        年龄              24.8   \n",
      "440                 借贷标记_对方账号_消费比例_freq_mean1               7.1   \n",
      "91                         借贷标记_交易日期_相对天_ptp0              12.0   \n",
      "428        借贷标记_对方账号_交易金额_normalize_freq_std1              13.9   \n",
      "1487       退款标记_对方账号_交易金额_normalize_freq_std0              24.4   \n",
      "554      借贷标记_性别_原账户余额_normalize_freq_median1               9.1   \n",
      "340                     借贷标记_对方名称长度_freq_std1              12.5   \n",
      "37                   借贷标记_交易日期_dayofyear_max0              13.3   \n",
      "1143                退款标记_交易日期_weekofyear_ptp0               4.5   \n",
      "336                    借贷标记_对方名称长度_freq_mean1              15.7   \n",
      "402               借贷标记_对方行号_消费比例_freq_median1              11.1   \n",
      "1461              退款标记_对方行号_消费比例_freq_median0               3.3   \n",
      "280                 借贷标记_交易渠道_消费比例_freq_mean1               6.0   \n",
      "594    借贷标记_摘要代号_原账户余额_normalize_freq_median1               5.9   \n",
      "830                                  对方账号0_79              10.0   \n",
      "\n",
      "      importance_gain  \n",
      "438       1685.361160  \n",
      "1103      1328.236649  \n",
      "1061      1250.573596  \n",
      "1059      1190.019594  \n",
      "749        734.594337  \n",
      "444        707.428031  \n",
      "1151       465.894591  \n",
      "586        342.694348  \n",
      "1063       323.008675  \n",
      "849        284.130644  \n",
      "346        261.039542  \n",
      "174        201.241902  \n",
      "422        196.256859  \n",
      "43         188.567460  \n",
      "1031       184.714844  \n",
      "853        168.440544  \n",
      "440        157.761544  \n",
      "91         153.234588  \n",
      "428        152.353364  \n",
      "1487       133.831722  \n",
      "554        116.728401  \n",
      "340         85.766517  \n",
      "37          84.002137  \n",
      "1143        81.136814  \n",
      "336         76.843128  \n",
      "402         74.485775  \n",
      "1461        72.601012  \n",
      "280         62.567003  \n",
      "594         62.361488  \n",
      "830         62.236976  \n",
      "==================================================\n",
      "-------------------- lgb fold 1 --------------------\n"
     ]
    },
    {
     "name": "stderr",
     "output_type": "stream",
     "text": [
      "/home/jtli/anaconda3/lib/python3.9/site-packages/lightgbm/basic.py:2068: UserWarning: categorical_feature in Dataset is overridden.\n",
      "New categorical_feature is ['年龄', '开户年', '开户月', '开户机构代号', '性别']\n",
      "  _log_warning('categorical_feature in Dataset is overridden.\\n'\n",
      "/home/jtli/anaconda3/lib/python3.9/site-packages/lightgbm/basic.py:1780: UserWarning: Overriding the parameters from Reference Dataset.\n",
      "  _log_warning('Overriding the parameters from Reference Dataset.')\n",
      "/home/jtli/anaconda3/lib/python3.9/site-packages/lightgbm/basic.py:1513: UserWarning: categorical_column in param dict is overridden.\n",
      "  _log_warning(f'{cat_alias} in param dict is overridden.')\n"
     ]
    },
    {
     "name": "stdout",
     "output_type": "stream",
     "text": [
      "Training until validation scores don't improve for 100 rounds\n",
      "Early stopping, best iteration is:\n",
      "[20]\ttrain's auc: 0.99658\tval's auc: 0.97963\n",
      "Evaluated only: auc\n",
      "It takes 3.527127504348755 seconds to train fold 1\n",
      "\n",
      "-------------------- lgb fold 2 --------------------\n"
     ]
    },
    {
     "name": "stderr",
     "output_type": "stream",
     "text": [
      "/home/jtli/anaconda3/lib/python3.9/site-packages/lightgbm/basic.py:2068: UserWarning: categorical_feature in Dataset is overridden.\n",
      "New categorical_feature is ['年龄', '开户年', '开户月', '开户机构代号', '性别']\n",
      "  _log_warning('categorical_feature in Dataset is overridden.\\n'\n",
      "/home/jtli/anaconda3/lib/python3.9/site-packages/lightgbm/basic.py:1780: UserWarning: Overriding the parameters from Reference Dataset.\n",
      "  _log_warning('Overriding the parameters from Reference Dataset.')\n",
      "/home/jtli/anaconda3/lib/python3.9/site-packages/lightgbm/basic.py:1513: UserWarning: categorical_column in param dict is overridden.\n",
      "  _log_warning(f'{cat_alias} in param dict is overridden.')\n"
     ]
    },
    {
     "name": "stdout",
     "output_type": "stream",
     "text": [
      "Training until validation scores don't improve for 100 rounds\n",
      "Early stopping, best iteration is:\n",
      "[83]\ttrain's auc: 0.999826\tval's auc: 0.941636\n",
      "Evaluated only: auc\n",
      "It takes 5.210378646850586 seconds to train fold 2\n",
      "\n",
      "-------------------- lgb fold 3 --------------------\n"
     ]
    },
    {
     "name": "stderr",
     "output_type": "stream",
     "text": [
      "/home/jtli/anaconda3/lib/python3.9/site-packages/lightgbm/basic.py:2068: UserWarning: categorical_feature in Dataset is overridden.\n",
      "New categorical_feature is ['年龄', '开户年', '开户月', '开户机构代号', '性别']\n",
      "  _log_warning('categorical_feature in Dataset is overridden.\\n'\n",
      "/home/jtli/anaconda3/lib/python3.9/site-packages/lightgbm/basic.py:1780: UserWarning: Overriding the parameters from Reference Dataset.\n",
      "  _log_warning('Overriding the parameters from Reference Dataset.')\n",
      "/home/jtli/anaconda3/lib/python3.9/site-packages/lightgbm/basic.py:1513: UserWarning: categorical_column in param dict is overridden.\n",
      "  _log_warning(f'{cat_alias} in param dict is overridden.')\n"
     ]
    },
    {
     "name": "stdout",
     "output_type": "stream",
     "text": [
      "Training until validation scores don't improve for 100 rounds\n",
      "[200]\ttrain's auc: 1\tval's auc: 0.973722\n",
      "Early stopping, best iteration is:\n",
      "[134]\ttrain's auc: 1\tval's auc: 0.978693\n",
      "Evaluated only: auc\n",
      "It takes 6.734455585479736 seconds to train fold 3\n",
      "\n",
      "-------------------- lgb fold 4 --------------------\n"
     ]
    },
    {
     "name": "stderr",
     "output_type": "stream",
     "text": [
      "/home/jtli/anaconda3/lib/python3.9/site-packages/lightgbm/basic.py:2068: UserWarning: categorical_feature in Dataset is overridden.\n",
      "New categorical_feature is ['年龄', '开户年', '开户月', '开户机构代号', '性别']\n",
      "  _log_warning('categorical_feature in Dataset is overridden.\\n'\n",
      "/home/jtli/anaconda3/lib/python3.9/site-packages/lightgbm/basic.py:1780: UserWarning: Overriding the parameters from Reference Dataset.\n",
      "  _log_warning('Overriding the parameters from Reference Dataset.')\n",
      "/home/jtli/anaconda3/lib/python3.9/site-packages/lightgbm/basic.py:1513: UserWarning: categorical_column in param dict is overridden.\n",
      "  _log_warning(f'{cat_alias} in param dict is overridden.')\n"
     ]
    },
    {
     "name": "stdout",
     "output_type": "stream",
     "text": [
      "Training until validation scores don't improve for 100 rounds\n",
      "Early stopping, best iteration is:\n",
      "[11]\ttrain's auc: 0.995223\tval's auc: 0.973624\n",
      "Evaluated only: auc\n",
      "It takes 3.1662373542785645 seconds to train fold 4\n",
      "\n",
      "-------------------- lgb fold 5 --------------------\n"
     ]
    },
    {
     "name": "stderr",
     "output_type": "stream",
     "text": [
      "/home/jtli/anaconda3/lib/python3.9/site-packages/lightgbm/basic.py:2068: UserWarning: categorical_feature in Dataset is overridden.\n",
      "New categorical_feature is ['年龄', '开户年', '开户月', '开户机构代号', '性别']\n",
      "  _log_warning('categorical_feature in Dataset is overridden.\\n'\n",
      "/home/jtli/anaconda3/lib/python3.9/site-packages/lightgbm/basic.py:1780: UserWarning: Overriding the parameters from Reference Dataset.\n",
      "  _log_warning('Overriding the parameters from Reference Dataset.')\n",
      "/home/jtli/anaconda3/lib/python3.9/site-packages/lightgbm/basic.py:1513: UserWarning: categorical_column in param dict is overridden.\n",
      "  _log_warning(f'{cat_alias} in param dict is overridden.')\n"
     ]
    },
    {
     "name": "stdout",
     "output_type": "stream",
     "text": [
      "Training until validation scores don't improve for 100 rounds\n",
      "Early stopping, best iteration is:\n",
      "[20]\ttrain's auc: 0.996708\tval's auc: 0.990741\n",
      "Evaluated only: auc\n",
      "It takes 3.527404546737671 seconds to train fold 5\n",
      "\n",
      "-------------------- lgb fold 6 --------------------\n"
     ]
    },
    {
     "name": "stderr",
     "output_type": "stream",
     "text": [
      "/home/jtli/anaconda3/lib/python3.9/site-packages/lightgbm/basic.py:2068: UserWarning: categorical_feature in Dataset is overridden.\n",
      "New categorical_feature is ['年龄', '开户年', '开户月', '开户机构代号', '性别']\n",
      "  _log_warning('categorical_feature in Dataset is overridden.\\n'\n",
      "/home/jtli/anaconda3/lib/python3.9/site-packages/lightgbm/basic.py:1780: UserWarning: Overriding the parameters from Reference Dataset.\n",
      "  _log_warning('Overriding the parameters from Reference Dataset.')\n",
      "/home/jtli/anaconda3/lib/python3.9/site-packages/lightgbm/basic.py:1513: UserWarning: categorical_column in param dict is overridden.\n",
      "  _log_warning(f'{cat_alias} in param dict is overridden.')\n"
     ]
    },
    {
     "name": "stdout",
     "output_type": "stream",
     "text": [
      "Training until validation scores don't improve for 100 rounds\n",
      "Early stopping, best iteration is:\n",
      "[4]\ttrain's auc: 0.988965\tval's auc: 0.96563\n",
      "Evaluated only: auc\n",
      "It takes 3.061300039291382 seconds to train fold 6\n",
      "\n",
      "-------------------- lgb fold 7 --------------------\n"
     ]
    },
    {
     "name": "stderr",
     "output_type": "stream",
     "text": [
      "/home/jtli/anaconda3/lib/python3.9/site-packages/lightgbm/basic.py:2068: UserWarning: categorical_feature in Dataset is overridden.\n",
      "New categorical_feature is ['年龄', '开户年', '开户月', '开户机构代号', '性别']\n",
      "  _log_warning('categorical_feature in Dataset is overridden.\\n'\n",
      "/home/jtli/anaconda3/lib/python3.9/site-packages/lightgbm/basic.py:1780: UserWarning: Overriding the parameters from Reference Dataset.\n",
      "  _log_warning('Overriding the parameters from Reference Dataset.')\n",
      "/home/jtli/anaconda3/lib/python3.9/site-packages/lightgbm/basic.py:1513: UserWarning: categorical_column in param dict is overridden.\n",
      "  _log_warning(f'{cat_alias} in param dict is overridden.')\n"
     ]
    },
    {
     "name": "stdout",
     "output_type": "stream",
     "text": [
      "Training until validation scores don't improve for 100 rounds\n",
      "[200]\ttrain's auc: 1\tval's auc: 0.940308\n",
      "Early stopping, best iteration is:\n",
      "[277]\ttrain's auc: 1\tval's auc: 0.941913\n",
      "Evaluated only: auc\n",
      "It takes 10.564773321151733 seconds to train fold 7\n",
      "\n",
      "-------------------- lgb fold 8 --------------------\n"
     ]
    },
    {
     "name": "stderr",
     "output_type": "stream",
     "text": [
      "/home/jtli/anaconda3/lib/python3.9/site-packages/lightgbm/basic.py:2068: UserWarning: categorical_feature in Dataset is overridden.\n",
      "New categorical_feature is ['年龄', '开户年', '开户月', '开户机构代号', '性别']\n",
      "  _log_warning('categorical_feature in Dataset is overridden.\\n'\n",
      "/home/jtli/anaconda3/lib/python3.9/site-packages/lightgbm/basic.py:1780: UserWarning: Overriding the parameters from Reference Dataset.\n",
      "  _log_warning('Overriding the parameters from Reference Dataset.')\n",
      "/home/jtli/anaconda3/lib/python3.9/site-packages/lightgbm/basic.py:1513: UserWarning: categorical_column in param dict is overridden.\n",
      "  _log_warning(f'{cat_alias} in param dict is overridden.')\n"
     ]
    },
    {
     "name": "stdout",
     "output_type": "stream",
     "text": [
      "Training until validation scores don't improve for 100 rounds\n",
      "[200]\ttrain's auc: 1\tval's auc: 0.976852\n",
      "[400]\ttrain's auc: 1\tval's auc: 0.979828\n",
      "Early stopping, best iteration is:\n",
      "[346]\ttrain's auc: 1\tval's auc: 0.980159\n",
      "Evaluated only: auc\n",
      "It takes 12.66420841217041 seconds to train fold 8\n",
      "\n",
      "-------------------- lgb fold 9 --------------------\n"
     ]
    },
    {
     "name": "stderr",
     "output_type": "stream",
     "text": [
      "/home/jtli/anaconda3/lib/python3.9/site-packages/lightgbm/basic.py:2068: UserWarning: categorical_feature in Dataset is overridden.\n",
      "New categorical_feature is ['年龄', '开户年', '开户月', '开户机构代号', '性别']\n",
      "  _log_warning('categorical_feature in Dataset is overridden.\\n'\n",
      "/home/jtli/anaconda3/lib/python3.9/site-packages/lightgbm/basic.py:1780: UserWarning: Overriding the parameters from Reference Dataset.\n",
      "  _log_warning('Overriding the parameters from Reference Dataset.')\n",
      "/home/jtli/anaconda3/lib/python3.9/site-packages/lightgbm/basic.py:1513: UserWarning: categorical_column in param dict is overridden.\n",
      "  _log_warning(f'{cat_alias} in param dict is overridden.')\n"
     ]
    },
    {
     "name": "stdout",
     "output_type": "stream",
     "text": [
      "Training until validation scores don't improve for 100 rounds\n",
      "[200]\ttrain's auc: 1\tval's auc: 0.964211\n",
      "Early stopping, best iteration is:\n",
      "[237]\ttrain's auc: 1\tval's auc: 0.967158\n",
      "Evaluated only: auc\n",
      "It takes 9.546619653701782 seconds to train fold 9\n",
      "\n",
      "-------------------- lgb fold 10 --------------------\n"
     ]
    },
    {
     "name": "stderr",
     "output_type": "stream",
     "text": [
      "/home/jtli/anaconda3/lib/python3.9/site-packages/lightgbm/basic.py:2068: UserWarning: categorical_feature in Dataset is overridden.\n",
      "New categorical_feature is ['年龄', '开户年', '开户月', '开户机构代号', '性别']\n",
      "  _log_warning('categorical_feature in Dataset is overridden.\\n'\n",
      "/home/jtli/anaconda3/lib/python3.9/site-packages/lightgbm/basic.py:1780: UserWarning: Overriding the parameters from Reference Dataset.\n",
      "  _log_warning('Overriding the parameters from Reference Dataset.')\n",
      "/home/jtli/anaconda3/lib/python3.9/site-packages/lightgbm/basic.py:1513: UserWarning: categorical_column in param dict is overridden.\n",
      "  _log_warning(f'{cat_alias} in param dict is overridden.')\n"
     ]
    },
    {
     "name": "stdout",
     "output_type": "stream",
     "text": [
      "Training until validation scores don't improve for 100 rounds\n",
      "Early stopping, best iteration is:\n",
      "[7]\ttrain's auc: 0.992749\tval's auc: 0.960573\n",
      "Evaluated only: auc\n",
      "It takes 3.1453440189361572 seconds to train fold 10\n",
      "\n",
      "It takes 61.14784908294678 seconds to train model\n",
      "\n",
      "模型训练完成！\n",
      "K 折 valid-auc: 0.952056\n",
      "特征重要性：\n",
      "==================================================\n",
      "                                       column  importance_split  \\\n",
      "438                  借贷标记_对方账号_消费比例_freq_max1              20.4   \n",
      "1103                 退款标记_交易日期_dayofyear_ptp0              14.2   \n",
      "1061                              账户代号_交易日期比例              23.2   \n",
      "1059                              账户代号_交易日期差比              21.9   \n",
      "749                                  对方行号0_96              29.3   \n",
      "444                  借贷标记_对方账号_消费比例_freq_std1              19.8   \n",
      "1151                       退款标记_交易日期_相对天_ptp0               5.9   \n",
      "1063                           账户代号_借贷标记_转入人数              14.4   \n",
      "422        借贷标记_对方账号_交易金额_normalize_freq_max1              10.9   \n",
      "849                                  对方账号0_96               9.9   \n",
      "43                   借贷标记_交易日期_dayofyear_ptp0              14.7   \n",
      "346   借贷标记_对方名称长度_交易金额_normalize_freq_median1               7.6   \n",
      "586     借贷标记_摘要代号_交易金额_normalize_freq_median1              10.4   \n",
      "1031                                 摘要代号0_75              19.0   \n",
      "428        借贷标记_对方账号_交易金额_normalize_freq_std1               9.0   \n",
      "174               借贷标记_交易时间_小时_消费比例_freq_max1               5.6   \n",
      "1487       退款标记_对方账号_交易金额_normalize_freq_std0              16.7   \n",
      "853                                        年龄              15.2   \n",
      "91                         借贷标记_交易日期_相对天_ptp0               8.4   \n",
      "554      借贷标记_性别_原账户余额_normalize_freq_median1               5.5   \n",
      "1143                退款标记_交易日期_weekofyear_ptp0               3.1   \n",
      "340                     借贷标记_对方名称长度_freq_std1              10.1   \n",
      "264       借贷标记_交易渠道_交易金额_normalize_freq_mean1               3.0   \n",
      "37                   借贷标记_交易日期_dayofyear_max0               6.9   \n",
      "336                    借贷标记_对方名称长度_freq_mean1              10.0   \n",
      "1055                                 摘要代号0_97              11.9   \n",
      "402               借贷标记_对方行号_消费比例_freq_median1               8.7   \n",
      "89                         借贷标记_交易日期_相对天_min0               6.8   \n",
      "440                 借贷标记_对方账号_消费比例_freq_mean1               5.6   \n",
      "576                      借贷标记_摘要代号_freq_mean1               5.1   \n",
      "\n",
      "      importance_gain  \n",
      "438       1450.894253  \n",
      "1103      1244.329716  \n",
      "1061       923.071137  \n",
      "1059       895.720049  \n",
      "749        656.836228  \n",
      "444        513.007942  \n",
      "1151       406.276868  \n",
      "1063       316.780338  \n",
      "422        259.705985  \n",
      "849        249.591205  \n",
      "43         180.212609  \n",
      "346        179.177581  \n",
      "586        177.320571  \n",
      "1031       159.135089  \n",
      "428        124.273471  \n",
      "174        119.144594  \n",
      "1487       107.369249  \n",
      "853         93.431911  \n",
      "91          89.236570  \n",
      "554         86.502179  \n",
      "1143        82.752008  \n",
      "340         75.504864  \n",
      "264         69.772886  \n",
      "37          69.223146  \n",
      "336         67.833404  \n",
      "1055        59.642610  \n",
      "402         57.419959  \n",
      "89          54.735848  \n",
      "440         54.289262  \n",
      "576         50.210949  \n",
      "==================================================\n",
      "-------------------- lgb fold 1 --------------------\n"
     ]
    },
    {
     "name": "stderr",
     "output_type": "stream",
     "text": [
      "/home/jtli/anaconda3/lib/python3.9/site-packages/lightgbm/basic.py:2068: UserWarning: categorical_feature in Dataset is overridden.\n",
      "New categorical_feature is ['年龄', '开户年', '开户月', '开户机构代号', '性别']\n",
      "  _log_warning('categorical_feature in Dataset is overridden.\\n'\n",
      "/home/jtli/anaconda3/lib/python3.9/site-packages/lightgbm/basic.py:1780: UserWarning: Overriding the parameters from Reference Dataset.\n",
      "  _log_warning('Overriding the parameters from Reference Dataset.')\n",
      "/home/jtli/anaconda3/lib/python3.9/site-packages/lightgbm/basic.py:1513: UserWarning: categorical_column in param dict is overridden.\n",
      "  _log_warning(f'{cat_alias} in param dict is overridden.')\n"
     ]
    },
    {
     "name": "stdout",
     "output_type": "stream",
     "text": [
      "Training until validation scores don't improve for 100 rounds\n",
      "[200]\ttrain's auc: 1\tval's auc: 0.972593\n",
      "Early stopping, best iteration is:\n",
      "[134]\ttrain's auc: 1\tval's auc: 0.972963\n",
      "Evaluated only: auc\n",
      "It takes 6.734952688217163 seconds to train fold 1\n",
      "\n",
      "-------------------- lgb fold 2 --------------------\n"
     ]
    },
    {
     "name": "stderr",
     "output_type": "stream",
     "text": [
      "/home/jtli/anaconda3/lib/python3.9/site-packages/lightgbm/basic.py:2068: UserWarning: categorical_feature in Dataset is overridden.\n",
      "New categorical_feature is ['年龄', '开户年', '开户月', '开户机构代号', '性别']\n",
      "  _log_warning('categorical_feature in Dataset is overridden.\\n'\n",
      "/home/jtli/anaconda3/lib/python3.9/site-packages/lightgbm/basic.py:1780: UserWarning: Overriding the parameters from Reference Dataset.\n",
      "  _log_warning('Overriding the parameters from Reference Dataset.')\n",
      "/home/jtli/anaconda3/lib/python3.9/site-packages/lightgbm/basic.py:1513: UserWarning: categorical_column in param dict is overridden.\n",
      "  _log_warning(f'{cat_alias} in param dict is overridden.')\n"
     ]
    },
    {
     "name": "stdout",
     "output_type": "stream",
     "text": [
      "Training until validation scores don't improve for 100 rounds\n",
      "Early stopping, best iteration is:\n",
      "[63]\ttrain's auc: 0.999305\tval's auc: 0.99\n",
      "Evaluated only: auc\n",
      "It takes 4.732997417449951 seconds to train fold 2\n",
      "\n",
      "-------------------- lgb fold 3 --------------------\n"
     ]
    },
    {
     "name": "stderr",
     "output_type": "stream",
     "text": [
      "/home/jtli/anaconda3/lib/python3.9/site-packages/lightgbm/basic.py:2068: UserWarning: categorical_feature in Dataset is overridden.\n",
      "New categorical_feature is ['年龄', '开户年', '开户月', '开户机构代号', '性别']\n",
      "  _log_warning('categorical_feature in Dataset is overridden.\\n'\n",
      "/home/jtli/anaconda3/lib/python3.9/site-packages/lightgbm/basic.py:1780: UserWarning: Overriding the parameters from Reference Dataset.\n",
      "  _log_warning('Overriding the parameters from Reference Dataset.')\n",
      "/home/jtli/anaconda3/lib/python3.9/site-packages/lightgbm/basic.py:1513: UserWarning: categorical_column in param dict is overridden.\n",
      "  _log_warning(f'{cat_alias} in param dict is overridden.')\n"
     ]
    },
    {
     "name": "stdout",
     "output_type": "stream",
     "text": [
      "Training until validation scores don't improve for 100 rounds\n",
      "[200]\ttrain's auc: 1\tval's auc: 0.98\n",
      "Early stopping, best iteration is:\n",
      "[132]\ttrain's auc: 1\tval's auc: 0.983704\n",
      "Evaluated only: auc\n",
      "It takes 6.714896202087402 seconds to train fold 3\n",
      "\n",
      "-------------------- lgb fold 4 --------------------\n"
     ]
    },
    {
     "name": "stderr",
     "output_type": "stream",
     "text": [
      "/home/jtli/anaconda3/lib/python3.9/site-packages/lightgbm/basic.py:2068: UserWarning: categorical_feature in Dataset is overridden.\n",
      "New categorical_feature is ['年龄', '开户年', '开户月', '开户机构代号', '性别']\n",
      "  _log_warning('categorical_feature in Dataset is overridden.\\n'\n",
      "/home/jtli/anaconda3/lib/python3.9/site-packages/lightgbm/basic.py:1780: UserWarning: Overriding the parameters from Reference Dataset.\n",
      "  _log_warning('Overriding the parameters from Reference Dataset.')\n",
      "/home/jtli/anaconda3/lib/python3.9/site-packages/lightgbm/basic.py:1513: UserWarning: categorical_column in param dict is overridden.\n",
      "  _log_warning(f'{cat_alias} in param dict is overridden.')\n"
     ]
    },
    {
     "name": "stdout",
     "output_type": "stream",
     "text": [
      "Training until validation scores don't improve for 100 rounds\n",
      "[200]\ttrain's auc: 1\tval's auc: 0.968889\n",
      "[400]\ttrain's auc: 1\tval's auc: 0.975185\n",
      "[600]\ttrain's auc: 1\tval's auc: 0.978148\n",
      "Early stopping, best iteration is:\n",
      "[606]\ttrain's auc: 1\tval's auc: 0.978519\n",
      "Evaluated only: auc\n",
      "It takes 19.850340604782104 seconds to train fold 4\n",
      "\n",
      "-------------------- lgb fold 5 --------------------\n"
     ]
    },
    {
     "name": "stderr",
     "output_type": "stream",
     "text": [
      "/home/jtli/anaconda3/lib/python3.9/site-packages/lightgbm/basic.py:2068: UserWarning: categorical_feature in Dataset is overridden.\n",
      "New categorical_feature is ['年龄', '开户年', '开户月', '开户机构代号', '性别']\n",
      "  _log_warning('categorical_feature in Dataset is overridden.\\n'\n",
      "/home/jtli/anaconda3/lib/python3.9/site-packages/lightgbm/basic.py:1780: UserWarning: Overriding the parameters from Reference Dataset.\n",
      "  _log_warning('Overriding the parameters from Reference Dataset.')\n",
      "/home/jtli/anaconda3/lib/python3.9/site-packages/lightgbm/basic.py:1513: UserWarning: categorical_column in param dict is overridden.\n",
      "  _log_warning(f'{cat_alias} in param dict is overridden.')\n"
     ]
    },
    {
     "name": "stdout",
     "output_type": "stream",
     "text": [
      "Training until validation scores don't improve for 100 rounds\n",
      "Early stopping, best iteration is:\n",
      "[80]\ttrain's auc: 0.999895\tval's auc: 0.934074\n",
      "Evaluated only: auc\n",
      "It takes 5.084892272949219 seconds to train fold 5\n",
      "\n",
      "-------------------- lgb fold 6 --------------------\n"
     ]
    },
    {
     "name": "stderr",
     "output_type": "stream",
     "text": [
      "/home/jtli/anaconda3/lib/python3.9/site-packages/lightgbm/basic.py:2068: UserWarning: categorical_feature in Dataset is overridden.\n",
      "New categorical_feature is ['年龄', '开户年', '开户月', '开户机构代号', '性别']\n",
      "  _log_warning('categorical_feature in Dataset is overridden.\\n'\n",
      "/home/jtli/anaconda3/lib/python3.9/site-packages/lightgbm/basic.py:1780: UserWarning: Overriding the parameters from Reference Dataset.\n",
      "  _log_warning('Overriding the parameters from Reference Dataset.')\n",
      "/home/jtli/anaconda3/lib/python3.9/site-packages/lightgbm/basic.py:1513: UserWarning: categorical_column in param dict is overridden.\n",
      "  _log_warning(f'{cat_alias} in param dict is overridden.')\n"
     ]
    },
    {
     "name": "stdout",
     "output_type": "stream",
     "text": [
      "Training until validation scores don't improve for 100 rounds\n",
      "[200]\ttrain's auc: 1\tval's auc: 0.937778\n",
      "Early stopping, best iteration is:\n",
      "[289]\ttrain's auc: 1\tval's auc: 0.941111\n",
      "Evaluated only: auc\n",
      "It takes 10.90165638923645 seconds to train fold 6\n",
      "\n",
      "-------------------- lgb fold 7 --------------------\n"
     ]
    },
    {
     "name": "stderr",
     "output_type": "stream",
     "text": [
      "/home/jtli/anaconda3/lib/python3.9/site-packages/lightgbm/basic.py:2068: UserWarning: categorical_feature in Dataset is overridden.\n",
      "New categorical_feature is ['年龄', '开户年', '开户月', '开户机构代号', '性别']\n",
      "  _log_warning('categorical_feature in Dataset is overridden.\\n'\n",
      "/home/jtli/anaconda3/lib/python3.9/site-packages/lightgbm/basic.py:1780: UserWarning: Overriding the parameters from Reference Dataset.\n",
      "  _log_warning('Overriding the parameters from Reference Dataset.')\n",
      "/home/jtli/anaconda3/lib/python3.9/site-packages/lightgbm/basic.py:1513: UserWarning: categorical_column in param dict is overridden.\n",
      "  _log_warning(f'{cat_alias} in param dict is overridden.')\n"
     ]
    },
    {
     "name": "stdout",
     "output_type": "stream",
     "text": [
      "Training until validation scores don't improve for 100 rounds\n",
      "[200]\ttrain's auc: 1\tval's auc: 0.986296\n",
      "Early stopping, best iteration is:\n",
      "[130]\ttrain's auc: 1\tval's auc: 0.987037\n",
      "Evaluated only: auc\n",
      "It takes 6.624228000640869 seconds to train fold 7\n",
      "\n",
      "-------------------- lgb fold 8 --------------------\n"
     ]
    },
    {
     "name": "stderr",
     "output_type": "stream",
     "text": [
      "/home/jtli/anaconda3/lib/python3.9/site-packages/lightgbm/basic.py:2068: UserWarning: categorical_feature in Dataset is overridden.\n",
      "New categorical_feature is ['年龄', '开户年', '开户月', '开户机构代号', '性别']\n",
      "  _log_warning('categorical_feature in Dataset is overridden.\\n'\n",
      "/home/jtli/anaconda3/lib/python3.9/site-packages/lightgbm/basic.py:1780: UserWarning: Overriding the parameters from Reference Dataset.\n",
      "  _log_warning('Overriding the parameters from Reference Dataset.')\n",
      "/home/jtli/anaconda3/lib/python3.9/site-packages/lightgbm/basic.py:1513: UserWarning: categorical_column in param dict is overridden.\n",
      "  _log_warning(f'{cat_alias} in param dict is overridden.')\n"
     ]
    },
    {
     "name": "stdout",
     "output_type": "stream",
     "text": [
      "Training until validation scores don't improve for 100 rounds\n",
      "Early stopping, best iteration is:\n",
      "[43]\ttrain's auc: 0.998619\tval's auc: 0.982222\n",
      "Evaluated only: auc\n",
      "It takes 4.1601738929748535 seconds to train fold 8\n",
      "\n",
      "-------------------- lgb fold 9 --------------------\n"
     ]
    },
    {
     "name": "stderr",
     "output_type": "stream",
     "text": [
      "/home/jtli/anaconda3/lib/python3.9/site-packages/lightgbm/basic.py:2068: UserWarning: categorical_feature in Dataset is overridden.\n",
      "New categorical_feature is ['年龄', '开户年', '开户月', '开户机构代号', '性别']\n",
      "  _log_warning('categorical_feature in Dataset is overridden.\\n'\n",
      "/home/jtli/anaconda3/lib/python3.9/site-packages/lightgbm/basic.py:1780: UserWarning: Overriding the parameters from Reference Dataset.\n",
      "  _log_warning('Overriding the parameters from Reference Dataset.')\n",
      "/home/jtli/anaconda3/lib/python3.9/site-packages/lightgbm/basic.py:1513: UserWarning: categorical_column in param dict is overridden.\n",
      "  _log_warning(f'{cat_alias} in param dict is overridden.')\n"
     ]
    },
    {
     "name": "stdout",
     "output_type": "stream",
     "text": [
      "Training until validation scores don't improve for 100 rounds\n",
      "Early stopping, best iteration is:\n",
      "[87]\ttrain's auc: 0.999909\tval's auc: 0.978889\n",
      "Evaluated only: auc\n",
      "It takes 5.434541702270508 seconds to train fold 9\n",
      "\n",
      "-------------------- lgb fold 10 --------------------\n"
     ]
    },
    {
     "name": "stderr",
     "output_type": "stream",
     "text": [
      "/home/jtli/anaconda3/lib/python3.9/site-packages/lightgbm/basic.py:2068: UserWarning: categorical_feature in Dataset is overridden.\n",
      "New categorical_feature is ['年龄', '开户年', '开户月', '开户机构代号', '性别']\n",
      "  _log_warning('categorical_feature in Dataset is overridden.\\n'\n",
      "/home/jtli/anaconda3/lib/python3.9/site-packages/lightgbm/basic.py:1780: UserWarning: Overriding the parameters from Reference Dataset.\n",
      "  _log_warning('Overriding the parameters from Reference Dataset.')\n",
      "/home/jtli/anaconda3/lib/python3.9/site-packages/lightgbm/basic.py:1513: UserWarning: categorical_column in param dict is overridden.\n",
      "  _log_warning(f'{cat_alias} in param dict is overridden.')\n"
     ]
    },
    {
     "name": "stdout",
     "output_type": "stream",
     "text": [
      "Training until validation scores don't improve for 100 rounds\n",
      "[200]\ttrain's auc: 1\tval's auc: 0.988889\n",
      "Early stopping, best iteration is:\n",
      "[163]\ttrain's auc: 1\tval's auc: 0.988889\n",
      "Evaluated only: auc\n",
      "It takes 7.478385925292969 seconds to train fold 10\n",
      "\n",
      "It takes 77.71706509590149 seconds to train model\n",
      "\n",
      "模型训练完成！\n",
      "K 折 valid-auc: 0.964467\n",
      "特征重要性：\n",
      "==================================================\n",
      "                                       column  importance_split  \\\n",
      "438                  借贷标记_对方账号_消费比例_freq_max1              27.0   \n",
      "1061                              账户代号_交易日期比例              40.5   \n",
      "1103                 退款标记_交易日期_dayofyear_ptp0              24.0   \n",
      "1059                              账户代号_交易日期差比              32.4   \n",
      "749                                  对方行号0_96              37.5   \n",
      "444                  借贷标记_对方账号_消费比例_freq_std1              27.8   \n",
      "1151                       退款标记_交易日期_相对天_ptp0               9.0   \n",
      "849                                  对方账号0_96              18.5   \n",
      "1063                           账户代号_借贷标记_转入人数              19.1   \n",
      "586     借贷标记_摘要代号_交易金额_normalize_freq_median1              16.5   \n",
      "346   借贷标记_对方名称长度_交易金额_normalize_freq_median1              12.2   \n",
      "43                   借贷标记_交易日期_dayofyear_ptp0              18.7   \n",
      "422        借贷标记_对方账号_交易金额_normalize_freq_max1              13.9   \n",
      "174               借贷标记_交易时间_小时_消费比例_freq_max1               8.8   \n",
      "1031                                 摘要代号0_75              22.6   \n",
      "1487       退款标记_对方账号_交易金额_normalize_freq_std0              27.1   \n",
      "428        借贷标记_对方账号_交易金额_normalize_freq_std1              14.3   \n",
      "853                                        年龄              24.7   \n",
      "91                         借贷标记_交易日期_相对天_ptp0              11.0   \n",
      "1143                退款标记_交易日期_weekofyear_ptp0               3.8   \n",
      "440                 借贷标记_对方账号_消费比例_freq_mean1               6.5   \n",
      "554      借贷标记_性别_原账户余额_normalize_freq_median1               7.4   \n",
      "402               借贷标记_对方行号_消费比例_freq_median1              13.6   \n",
      "340                     借贷标记_对方名称长度_freq_std1              15.1   \n",
      "1055                                 摘要代号0_97              21.1   \n",
      "336                    借贷标记_对方名称长度_freq_mean1              17.1   \n",
      "264       借贷标记_交易渠道_交易金额_normalize_freq_mean1               3.6   \n",
      "37                   借贷标记_交易日期_dayofyear_max0              12.1   \n",
      "830                                  对方账号0_79               9.8   \n",
      "546       借贷标记_性别_交易金额_normalize_freq_median1              10.1   \n",
      "\n",
      "      importance_gain  \n",
      "438       1840.826863  \n",
      "1061      1510.889012  \n",
      "1103      1400.302432  \n",
      "1059      1081.610777  \n",
      "749        842.330580  \n",
      "444        728.015519  \n",
      "1151       418.953451  \n",
      "849        359.523650  \n",
      "1063       335.634016  \n",
      "586        326.837804  \n",
      "346        259.190272  \n",
      "43         258.852586  \n",
      "422        212.209629  \n",
      "174        197.297854  \n",
      "1031       194.527230  \n",
      "1487       186.184263  \n",
      "428        184.164427  \n",
      "853        175.228484  \n",
      "91         160.721481  \n",
      "1143       119.166364  \n",
      "440        115.503456  \n",
      "554        102.148423  \n",
      "402        100.954820  \n",
      "340         97.882396  \n",
      "1055        91.037425  \n",
      "336         82.479822  \n",
      "264         67.975850  \n",
      "37          58.959748  \n",
      "830         58.697414  \n",
      "546         55.281147  \n",
      "==================================================\n",
      "-------------------- lgb fold 1 --------------------\n"
     ]
    },
    {
     "name": "stderr",
     "output_type": "stream",
     "text": [
      "/home/jtli/anaconda3/lib/python3.9/site-packages/lightgbm/basic.py:2068: UserWarning: categorical_feature in Dataset is overridden.\n",
      "New categorical_feature is ['年龄', '开户年', '开户月', '开户机构代号', '性别']\n",
      "  _log_warning('categorical_feature in Dataset is overridden.\\n'\n",
      "/home/jtli/anaconda3/lib/python3.9/site-packages/lightgbm/basic.py:1780: UserWarning: Overriding the parameters from Reference Dataset.\n",
      "  _log_warning('Overriding the parameters from Reference Dataset.')\n",
      "/home/jtli/anaconda3/lib/python3.9/site-packages/lightgbm/basic.py:1513: UserWarning: categorical_column in param dict is overridden.\n",
      "  _log_warning(f'{cat_alias} in param dict is overridden.')\n"
     ]
    },
    {
     "name": "stdout",
     "output_type": "stream",
     "text": [
      "Training until validation scores don't improve for 100 rounds\n",
      "[200]\ttrain's auc: 1\tval's auc: 0.969259\n",
      "[400]\ttrain's auc: 1\tval's auc: 0.972963\n",
      "[600]\ttrain's auc: 1\tval's auc: 0.974815\n",
      "Early stopping, best iteration is:\n",
      "[509]\ttrain's auc: 1\tval's auc: 0.974815\n",
      "Evaluated only: auc\n",
      "It takes 17.06359100341797 seconds to train fold 1\n",
      "\n",
      "-------------------- lgb fold 2 --------------------\n"
     ]
    },
    {
     "name": "stderr",
     "output_type": "stream",
     "text": [
      "/home/jtli/anaconda3/lib/python3.9/site-packages/lightgbm/basic.py:2068: UserWarning: categorical_feature in Dataset is overridden.\n",
      "New categorical_feature is ['年龄', '开户年', '开户月', '开户机构代号', '性别']\n",
      "  _log_warning('categorical_feature in Dataset is overridden.\\n'\n",
      "/home/jtli/anaconda3/lib/python3.9/site-packages/lightgbm/basic.py:1780: UserWarning: Overriding the parameters from Reference Dataset.\n",
      "  _log_warning('Overriding the parameters from Reference Dataset.')\n",
      "/home/jtli/anaconda3/lib/python3.9/site-packages/lightgbm/basic.py:1513: UserWarning: categorical_column in param dict is overridden.\n",
      "  _log_warning(f'{cat_alias} in param dict is overridden.')\n"
     ]
    },
    {
     "name": "stdout",
     "output_type": "stream",
     "text": [
      "Training until validation scores don't improve for 100 rounds\n",
      "[200]\ttrain's auc: 1\tval's auc: 0.958519\n",
      "Early stopping, best iteration is:\n",
      "[125]\ttrain's auc: 1\tval's auc: 0.961852\n",
      "Evaluated only: auc\n",
      "It takes 6.383488893508911 seconds to train fold 2\n",
      "\n",
      "-------------------- lgb fold 3 --------------------\n"
     ]
    },
    {
     "name": "stderr",
     "output_type": "stream",
     "text": [
      "/home/jtli/anaconda3/lib/python3.9/site-packages/lightgbm/basic.py:2068: UserWarning: categorical_feature in Dataset is overridden.\n",
      "New categorical_feature is ['年龄', '开户年', '开户月', '开户机构代号', '性别']\n",
      "  _log_warning('categorical_feature in Dataset is overridden.\\n'\n",
      "/home/jtli/anaconda3/lib/python3.9/site-packages/lightgbm/basic.py:1780: UserWarning: Overriding the parameters from Reference Dataset.\n",
      "  _log_warning('Overriding the parameters from Reference Dataset.')\n",
      "/home/jtli/anaconda3/lib/python3.9/site-packages/lightgbm/basic.py:1513: UserWarning: categorical_column in param dict is overridden.\n",
      "  _log_warning(f'{cat_alias} in param dict is overridden.')\n"
     ]
    },
    {
     "name": "stdout",
     "output_type": "stream",
     "text": [
      "Training until validation scores don't improve for 100 rounds\n",
      "[200]\ttrain's auc: 1\tval's auc: 0.971111\n",
      "Early stopping, best iteration is:\n",
      "[262]\ttrain's auc: 1\tval's auc: 0.973704\n",
      "Evaluated only: auc\n",
      "It takes 10.213178157806396 seconds to train fold 3\n",
      "\n",
      "-------------------- lgb fold 4 --------------------\n"
     ]
    },
    {
     "name": "stderr",
     "output_type": "stream",
     "text": [
      "/home/jtli/anaconda3/lib/python3.9/site-packages/lightgbm/basic.py:2068: UserWarning: categorical_feature in Dataset is overridden.\n",
      "New categorical_feature is ['年龄', '开户年', '开户月', '开户机构代号', '性别']\n",
      "  _log_warning('categorical_feature in Dataset is overridden.\\n'\n",
      "/home/jtli/anaconda3/lib/python3.9/site-packages/lightgbm/basic.py:1780: UserWarning: Overriding the parameters from Reference Dataset.\n",
      "  _log_warning('Overriding the parameters from Reference Dataset.')\n",
      "/home/jtli/anaconda3/lib/python3.9/site-packages/lightgbm/basic.py:1513: UserWarning: categorical_column in param dict is overridden.\n",
      "  _log_warning(f'{cat_alias} in param dict is overridden.')\n"
     ]
    },
    {
     "name": "stdout",
     "output_type": "stream",
     "text": [
      "Training until validation scores don't improve for 100 rounds\n",
      "[200]\ttrain's auc: 1\tval's auc: 0.975185\n",
      "Early stopping, best iteration is:\n",
      "[185]\ttrain's auc: 1\tval's auc: 0.975556\n",
      "Evaluated only: auc\n",
      "It takes 8.1061110496521 seconds to train fold 4\n",
      "\n",
      "-------------------- lgb fold 5 --------------------\n"
     ]
    },
    {
     "name": "stderr",
     "output_type": "stream",
     "text": [
      "/home/jtli/anaconda3/lib/python3.9/site-packages/lightgbm/basic.py:2068: UserWarning: categorical_feature in Dataset is overridden.\n",
      "New categorical_feature is ['年龄', '开户年', '开户月', '开户机构代号', '性别']\n",
      "  _log_warning('categorical_feature in Dataset is overridden.\\n'\n",
      "/home/jtli/anaconda3/lib/python3.9/site-packages/lightgbm/basic.py:1780: UserWarning: Overriding the parameters from Reference Dataset.\n",
      "  _log_warning('Overriding the parameters from Reference Dataset.')\n",
      "/home/jtli/anaconda3/lib/python3.9/site-packages/lightgbm/basic.py:1513: UserWarning: categorical_column in param dict is overridden.\n",
      "  _log_warning(f'{cat_alias} in param dict is overridden.')\n"
     ]
    },
    {
     "name": "stdout",
     "output_type": "stream",
     "text": [
      "Training until validation scores don't improve for 100 rounds\n",
      "[200]\ttrain's auc: 1\tval's auc: 0.979259\n",
      "Early stopping, best iteration is:\n",
      "[163]\ttrain's auc: 1\tval's auc: 0.980741\n",
      "Evaluated only: auc\n",
      "It takes 7.50551438331604 seconds to train fold 5\n",
      "\n",
      "-------------------- lgb fold 6 --------------------\n"
     ]
    },
    {
     "name": "stderr",
     "output_type": "stream",
     "text": [
      "/home/jtli/anaconda3/lib/python3.9/site-packages/lightgbm/basic.py:2068: UserWarning: categorical_feature in Dataset is overridden.\n",
      "New categorical_feature is ['年龄', '开户年', '开户月', '开户机构代号', '性别']\n",
      "  _log_warning('categorical_feature in Dataset is overridden.\\n'\n",
      "/home/jtli/anaconda3/lib/python3.9/site-packages/lightgbm/basic.py:1780: UserWarning: Overriding the parameters from Reference Dataset.\n",
      "  _log_warning('Overriding the parameters from Reference Dataset.')\n",
      "/home/jtli/anaconda3/lib/python3.9/site-packages/lightgbm/basic.py:1513: UserWarning: categorical_column in param dict is overridden.\n",
      "  _log_warning(f'{cat_alias} in param dict is overridden.')\n"
     ]
    },
    {
     "name": "stdout",
     "output_type": "stream",
     "text": [
      "Training until validation scores don't improve for 100 rounds\n",
      "[200]\ttrain's auc: 1\tval's auc: 0.98963\n",
      "[400]\ttrain's auc: 1\tval's auc: 0.990741\n",
      "Early stopping, best iteration is:\n",
      "[315]\ttrain's auc: 1\tval's auc: 0.990741\n",
      "Evaluated only: auc\n",
      "It takes 11.848137140274048 seconds to train fold 6\n",
      "\n",
      "-------------------- lgb fold 7 --------------------\n"
     ]
    },
    {
     "name": "stderr",
     "output_type": "stream",
     "text": [
      "/home/jtli/anaconda3/lib/python3.9/site-packages/lightgbm/basic.py:2068: UserWarning: categorical_feature in Dataset is overridden.\n",
      "New categorical_feature is ['年龄', '开户年', '开户月', '开户机构代号', '性别']\n",
      "  _log_warning('categorical_feature in Dataset is overridden.\\n'\n",
      "/home/jtli/anaconda3/lib/python3.9/site-packages/lightgbm/basic.py:1780: UserWarning: Overriding the parameters from Reference Dataset.\n",
      "  _log_warning('Overriding the parameters from Reference Dataset.')\n",
      "/home/jtli/anaconda3/lib/python3.9/site-packages/lightgbm/basic.py:1513: UserWarning: categorical_column in param dict is overridden.\n",
      "  _log_warning(f'{cat_alias} in param dict is overridden.')\n"
     ]
    },
    {
     "name": "stdout",
     "output_type": "stream",
     "text": [
      "Training until validation scores don't improve for 100 rounds\n",
      "Early stopping, best iteration is:\n",
      "[77]\ttrain's auc: 0.999799\tval's auc: 0.997037\n",
      "Evaluated only: auc\n",
      "It takes 5.136822700500488 seconds to train fold 7\n",
      "\n",
      "-------------------- lgb fold 8 --------------------\n"
     ]
    },
    {
     "name": "stderr",
     "output_type": "stream",
     "text": [
      "/home/jtli/anaconda3/lib/python3.9/site-packages/lightgbm/basic.py:2068: UserWarning: categorical_feature in Dataset is overridden.\n",
      "New categorical_feature is ['年龄', '开户年', '开户月', '开户机构代号', '性别']\n",
      "  _log_warning('categorical_feature in Dataset is overridden.\\n'\n",
      "/home/jtli/anaconda3/lib/python3.9/site-packages/lightgbm/basic.py:1780: UserWarning: Overriding the parameters from Reference Dataset.\n",
      "  _log_warning('Overriding the parameters from Reference Dataset.')\n",
      "/home/jtli/anaconda3/lib/python3.9/site-packages/lightgbm/basic.py:1513: UserWarning: categorical_column in param dict is overridden.\n",
      "  _log_warning(f'{cat_alias} in param dict is overridden.')\n"
     ]
    },
    {
     "name": "stdout",
     "output_type": "stream",
     "text": [
      "Training until validation scores don't improve for 100 rounds\n",
      "[200]\ttrain's auc: 1\tval's auc: 0.986296\n",
      "[400]\ttrain's auc: 1\tval's auc: 0.99\n",
      "Early stopping, best iteration is:\n",
      "[373]\ttrain's auc: 1\tval's auc: 0.99\n",
      "Evaluated only: auc\n",
      "It takes 13.22494912147522 seconds to train fold 8\n",
      "\n",
      "-------------------- lgb fold 9 --------------------\n"
     ]
    },
    {
     "name": "stderr",
     "output_type": "stream",
     "text": [
      "/home/jtli/anaconda3/lib/python3.9/site-packages/lightgbm/basic.py:2068: UserWarning: categorical_feature in Dataset is overridden.\n",
      "New categorical_feature is ['年龄', '开户年', '开户月', '开户机构代号', '性别']\n",
      "  _log_warning('categorical_feature in Dataset is overridden.\\n'\n",
      "/home/jtli/anaconda3/lib/python3.9/site-packages/lightgbm/basic.py:1780: UserWarning: Overriding the parameters from Reference Dataset.\n",
      "  _log_warning('Overriding the parameters from Reference Dataset.')\n",
      "/home/jtli/anaconda3/lib/python3.9/site-packages/lightgbm/basic.py:1513: UserWarning: categorical_column in param dict is overridden.\n",
      "  _log_warning(f'{cat_alias} in param dict is overridden.')\n"
     ]
    },
    {
     "name": "stdout",
     "output_type": "stream",
     "text": [
      "Training until validation scores don't improve for 100 rounds\n",
      "Early stopping, best iteration is:\n",
      "[10]\ttrain's auc: 0.996269\tval's auc: 0.899074\n",
      "Evaluated only: auc\n",
      "It takes 3.10898756980896 seconds to train fold 9\n",
      "\n",
      "-------------------- lgb fold 10 --------------------\n"
     ]
    },
    {
     "name": "stderr",
     "output_type": "stream",
     "text": [
      "/home/jtli/anaconda3/lib/python3.9/site-packages/lightgbm/basic.py:2068: UserWarning: categorical_feature in Dataset is overridden.\n",
      "New categorical_feature is ['年龄', '开户年', '开户月', '开户机构代号', '性别']\n",
      "  _log_warning('categorical_feature in Dataset is overridden.\\n'\n",
      "/home/jtli/anaconda3/lib/python3.9/site-packages/lightgbm/basic.py:1780: UserWarning: Overriding the parameters from Reference Dataset.\n",
      "  _log_warning('Overriding the parameters from Reference Dataset.')\n",
      "/home/jtli/anaconda3/lib/python3.9/site-packages/lightgbm/basic.py:1513: UserWarning: categorical_column in param dict is overridden.\n",
      "  _log_warning(f'{cat_alias} in param dict is overridden.')\n"
     ]
    },
    {
     "name": "stdout",
     "output_type": "stream",
     "text": [
      "Training until validation scores don't improve for 100 rounds\n",
      "Early stopping, best iteration is:\n",
      "[58]\ttrain's auc: 0.999575\tval's auc: 0.97\n",
      "Evaluated only: auc\n",
      "It takes 4.517043828964233 seconds to train fold 10\n",
      "\n",
      "It takes 87.10782384872437 seconds to train model\n",
      "\n",
      "模型训练完成！\n",
      "K 折 valid-auc: 0.965531\n",
      "特征重要性：\n",
      "==================================================\n",
      "                                       column  importance_split  \\\n",
      "438                  借贷标记_对方账号_消费比例_freq_max1              30.1   \n",
      "1103                 退款标记_交易日期_dayofyear_ptp0              23.1   \n",
      "1059                              账户代号_交易日期差比              41.3   \n",
      "1061                              账户代号_交易日期比例              41.5   \n",
      "749                                  对方行号0_96              49.3   \n",
      "444                  借贷标记_对方账号_消费比例_freq_std1              30.4   \n",
      "1151                       退款标记_交易日期_相对天_ptp0              10.9   \n",
      "1063                           账户代号_借贷标记_转入人数              23.8   \n",
      "849                                  对方账号0_96              17.2   \n",
      "586     借贷标记_摘要代号_交易金额_normalize_freq_median1              17.4   \n",
      "43                   借贷标记_交易日期_dayofyear_ptp0              30.8   \n",
      "422        借贷标记_对方账号_交易金额_normalize_freq_max1              17.5   \n",
      "346   借贷标记_对方名称长度_交易金额_normalize_freq_median1              14.8   \n",
      "853                                        年龄              30.3   \n",
      "1031                                 摘要代号0_75              25.6   \n",
      "174               借贷标记_交易时间_小时_消费比例_freq_max1               9.6   \n",
      "91                         借贷标记_交易日期_相对天_ptp0              14.7   \n",
      "1487       退款标记_对方账号_交易金额_normalize_freq_std0              27.2   \n",
      "428        借贷标记_对方账号_交易金额_normalize_freq_std1              16.9   \n",
      "340                     借贷标记_对方名称长度_freq_std1              16.5   \n",
      "440                 借贷标记_对方账号_消费比例_freq_mean1               6.4   \n",
      "554      借贷标记_性别_原账户余额_normalize_freq_median1               8.9   \n",
      "336                    借贷标记_对方名称长度_freq_mean1              18.6   \n",
      "424       借贷标记_对方账号_交易金额_normalize_freq_mean1              12.5   \n",
      "402               借贷标记_对方行号_消费比例_freq_median1              12.1   \n",
      "1055                                 摘要代号0_97              23.7   \n",
      "830                                  对方账号0_79              12.8   \n",
      "594    借贷标记_摘要代号_原账户余额_normalize_freq_median1               7.4   \n",
      "1097                 退款标记_交易日期_dayofyear_max0              14.3   \n",
      "1064                         账户代号_借贷标记_转入人数占比              23.2   \n",
      "\n",
      "      importance_gain  \n",
      "438       1727.464341  \n",
      "1103      1453.152254  \n",
      "1059      1290.652373  \n",
      "1061      1188.724093  \n",
      "749        818.179314  \n",
      "444        568.602900  \n",
      "1151       555.662971  \n",
      "1063       364.269548  \n",
      "849        311.278901  \n",
      "586        280.424437  \n",
      "43         263.542632  \n",
      "422        255.751966  \n",
      "346        226.236689  \n",
      "853        197.114838  \n",
      "1031       193.315301  \n",
      "174        162.723054  \n",
      "91         159.435918  \n",
      "1487       158.677027  \n",
      "428        149.479617  \n",
      "340        103.906925  \n",
      "440        103.484637  \n",
      "554        101.012681  \n",
      "336         86.482017  \n",
      "424         82.110633  \n",
      "402         81.652266  \n",
      "1055        81.245497  \n",
      "830         69.067697  \n",
      "594         67.267235  \n",
      "1097        62.704871  \n",
      "1064        62.317354  \n",
      "==================================================\n"
     ]
    }
   ],
   "source": [
    "oof_lgb = 0\n",
    "cnt = 0\n",
    "suffs = ['KF0', 'KF1', 'SKF0', 'SKF1']\n",
    "# suffs = ['SKF0']\n",
    "for suff in suffs:\n",
    "    oof_lgb += model_lgb_training(train, suff=suff)\n",
    "    cnt += 1\n",
    "oof_lgb /= cnt"
   ]
  },
  {
   "cell_type": "markdown",
   "id": "a770fddc-8fbc-423f-b60f-ef0e6b131350",
   "metadata": {},
   "source": [
    "# 测试集预测 "
   ]
  },
  {
   "cell_type": "code",
   "execution_count": 18,
   "id": "8a63f2b3-65e5-43a1-b506-71c650a83ac7",
   "metadata": {},
   "outputs": [],
   "source": [
    "cnt = 0\n",
    "prediction = np.zeros(test.shape[0])\n",
    "for suff in suffs:\n",
    "    for i in range(n_splits):\n",
    "        clf_lgb = lgb.Booster(model_file=f'models/{suff}_lgb_{i}.txt')\n",
    "        cnt += 1\n",
    "        prediction += clf_lgb.predict(test[features])\n",
    "prediction /= cnt    "
   ]
  },
  {
   "cell_type": "markdown",
   "id": "0a6cc963-1979-41bd-821b-817cfd8cb9ae",
   "metadata": {},
   "source": [
    "# 输出预测结果 "
   ]
  },
  {
   "cell_type": "code",
   "execution_count": 19,
   "id": "ef59137d-e3bd-4254-9ab1-34a8e068db6e",
   "metadata": {},
   "outputs": [
    {
     "name": "stdout",
     "output_type": "stream",
     "text": [
      "训练集的f1: 0.9146626483793592\n"
     ]
    },
    {
     "data": {
      "text/plain": [
       "count    4800.000000\n",
       "mean        0.226042\n",
       "std         0.418310\n",
       "min         0.000000\n",
       "25%         0.000000\n",
       "50%         0.000000\n",
       "75%         0.000000\n",
       "max         1.000000\n",
       "Name: 标签, dtype: float64"
      ]
     },
     "execution_count": 19,
     "metadata": {},
     "output_type": "execute_result"
    }
   ],
   "source": [
    "best_thresh = 0.5\n",
    "acc = f1_score(train[ycol], np.where(oof_lgb > best_thresh, 1, 0), average='macro')\n",
    "print(f'训练集的f1: {acc}')\n",
    "test['标签'] = np.where(prediction > best_thresh, 1, 0)\n",
    "test[['账户代号', '标签']].rename({'账户代号': 'zhdh', '标签': 'black_flag'}, axis=1).to_csv('result.csv')\n",
    "test['标签'].describe()"
   ]
  },
  {
   "cell_type": "code",
   "execution_count": null,
   "id": "77bcb60a-46db-402b-b39d-4017e25cbf15",
   "metadata": {},
   "outputs": [],
   "source": []
  }
 ],
 "metadata": {
  "kernelspec": {
   "display_name": "Python 3 (ipykernel)",
   "language": "python",
   "name": "python3"
  },
  "language_info": {
   "codemirror_mode": {
    "name": "ipython",
    "version": 3
   },
   "file_extension": ".py",
   "mimetype": "text/x-python",
   "name": "python",
   "nbconvert_exporter": "python",
   "pygments_lexer": "ipython3",
   "version": "3.9.12"
  }
 },
 "nbformat": 4,
 "nbformat_minor": 5
}
